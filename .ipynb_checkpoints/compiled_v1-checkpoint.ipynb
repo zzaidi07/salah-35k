{
 "cells": [
  {
   "cell_type": "code",
   "execution_count": 1,
   "id": "cfea79ab-ef63-4d55-947e-73c961eb6652",
   "metadata": {
    "tags": []
   },
   "outputs": [],
   "source": [
    "import numpy as np\n",
    "import math\n",
    "import pandas as pd\n",
    "import matplotlib.pyplot as plt\n",
    "from PrayTimes import prayTimes\n",
    "import requests\n",
    "from bs4 import BeautifulSoup"
   ]
  },
  {
   "cell_type": "markdown",
   "id": "c45e8b32-4dbd-49f6-b850-b0ac699a1831",
   "metadata": {},
   "source": [
    "# List of unsolved problems\n",
    "\n",
    "1. Ignoring abrupt changes in prayer times \n",
    "2. Figuring out timezone  ==> Is it always that of where the website is accessed?\n",
    "3. Accessing correct flight time "
   ]
  },
  {
   "cell_type": "code",
   "execution_count": 2,
   "id": "a939a313-2a34-4db9-a401-d18f03260c7f",
   "metadata": {
    "tags": []
   },
   "outputs": [],
   "source": [
    "def get_flight_history(flight_number, sel_index = 0):\n",
    "    url = 'https://www.flightaware.com/live/flight/' + flight_number + '/history'\n",
    "    hist_link = []\n",
    "    # Define headers to mimic a browser request\n",
    "    headers = {\n",
    "        'User-Agent': 'Mozilla/5.0 (Windows NT 10.0; Win64; x64) AppleWebKit/537.36 (KHTML, like Gecko) Chrome/91.0.4472.164 Safari/537.36',\n",
    "        'Accept': 'text/html,application/xhtml+xml,application/xml;q=0.9,*/*;q=0.8',\n",
    "        'Accept-Language': 'en-US,en;q=0.5',\n",
    "        'Accept-Encoding': 'gzip, deflate, br',\n",
    "        'DNT': '1',\n",
    "        'Connection': 'keep-alive',\n",
    "        'Upgrade-Insecure-Requests': '1'\n",
    "    }\n",
    "\n",
    "    try:\n",
    "        response = requests.get(url, headers=headers)\n",
    "        response.raise_for_status()  # Raise an exception for HTTP errors\n",
    "        soup = BeautifulSoup(response.text, 'html.parser')\n",
    "        # Find the link with the specific pattern\n",
    "        for link in soup.find_all('a'):\n",
    "            href = link.get('href')\n",
    "            if href and '/history/2' in href:\n",
    "                hist_link = hist_link + ['https://www.flightaware.com' + href]\n",
    "                print('https://www.flightaware.com' + href)\n",
    "\n",
    "\n",
    "    except requests.exceptions.RequestException as e:\n",
    "        print(f\"Request error: {e}\")\n",
    "    print(hist_link)\n",
    "    print('_ selected: ___')\n",
    "    print(hist_link[sel_index])\n",
    "    print('_______________')\n",
    "\n",
    "    headers = {\n",
    "        \"User-Agent\": \"Mozilla/5.0 (Windows NT 10.0; Win64; x64) \" \\\n",
    "                      \"AppleWebKit/537.36 (KHTML, like Gecko) \" \\\n",
    "                      \"Chrome/114.0.0.0 Safari/537.36\"\n",
    "        }\n",
    "    url = hist_link[sel_index]+\"/tracklog\"\n",
    "    print(url)\n",
    "    resp = requests.get(url, headers = headers)\n",
    "    resp.raise_for_status()  # Raise error on bad response\n",
    "\n",
    "    soup = BeautifulSoup(resp.text, \"html.parser\")\n",
    "    table = soup.find_all('table')\n",
    "    df = pd.read_html(str(table))\n",
    "    return df"
   ]
  },
  {
   "cell_type": "code",
   "execution_count": 112,
   "id": "634170c6-e85b-4d7b-8347-fca11c493775",
   "metadata": {
    "tags": []
   },
   "outputs": [],
   "source": [
    "def Parse24HrTime(time_24hr):\n",
    "    invalidTime =  '-----'\n",
    "    if time_24hr == invalidTime:\n",
    "        return np.nan, np.nan\n",
    "    if time_24hr[0] == '-':\n",
    "        hr = 0\n",
    "        mins = 0\n",
    "    else:  \n",
    "        hr = int(time_24hr.split(\":\")[0])\n",
    "        mins = int(time_24hr.split(\":\")[1])\n",
    "\n",
    "    \n",
    "    return(hr, mins)\n",
    "\n",
    "def Extract24HrTime(time_12hr):\n",
    "    invalidTime =  '-----'\n",
    "    if time_12hr == invalidTime:\n",
    "        return np.nan, np.nan\n",
    "    else:\n",
    "        exc_day = time_12hr[-2:]\n",
    "        exc_time = time_12hr[:-3]\n",
    "        hr = int(exc_time.split(\":\")[0])\n",
    "        mins = int(exc_time.split(\":\")[1])\n",
    "\n",
    "        if exc_day == 'PM':\n",
    "            if hr != 12:\n",
    "                hr += 12\n",
    "        else:\n",
    "            if hr == 12:\n",
    "                hr = 0\n",
    "\n",
    "        return(hr, mins)\n",
    "\n",
    "def ConvertTo12Hr(time_24):\n",
    "    mins = (time_24 - int(time_24))*60\n",
    "    hrs = int(time_24)\n",
    "    if hrs > 12:\n",
    "        day = 'PM'\n",
    "        hrs -= 12\n",
    "    elif hrs == 12:\n",
    "        day = 'PM'\n",
    "        hrs = hrs\n",
    "    elif hrs == 0:\n",
    "        day = 'AM'\n",
    "        hrs += 12\n",
    "    else:\n",
    "        day = 'AM'\n",
    "    return(hrs, mins, day)\n",
    "\n",
    "def calculate_inflight_prayertime(diff_time, flight_times):\n",
    "    diff_indices = np.argwhere(diff_time <= 0.02)\n",
    "    if len(diff_indices) == 0:\n",
    "        return np.nan, np.nan\n",
    "    else:\n",
    "        prayertime = ConvertTo12Hr(flight_times[diff_indices[0,0]])\n",
    "        return diff_indices[0], prayertime\n",
    "    \n",
    "    "
   ]
  },
  {
   "cell_type": "code",
   "execution_count": 114,
   "id": "83e5529c-3ac7-4075-9da1-b47bf01de788",
   "metadata": {
    "tags": []
   },
   "outputs": [
    {
     "name": "stdout",
     "output_type": "stream",
     "text": [
      "https://www.flightaware.com/live/flight/PIA782/history/20250724/1510Z/CYYZ/OPIS\n",
      "['https://www.flightaware.com/live/flight/PIA782/history/20250724/1510Z/CYYZ/OPIS']\n",
      "_ selected: ___\n",
      "https://www.flightaware.com/live/flight/PIA782/history/20250724/1510Z/CYYZ/OPIS\n",
      "_______________\n",
      "https://www.flightaware.com/live/flight/PIA782/history/20250724/1510Z/CYYZ/OPIS/tracklog\n"
     ]
    }
   ],
   "source": [
    "pd_flighthistory = get_flight_history('PIA782', sel_index = 0)"
   ]
  },
  {
   "cell_type": "code",
   "execution_count": 115,
   "id": "b0e78e7d-6377-40a1-a18b-51ece3bfb45a",
   "metadata": {
    "tags": []
   },
   "outputs": [],
   "source": [
    "df = pd_flighthistory[0]"
   ]
  },
  {
   "cell_type": "code",
   "execution_count": 116,
   "id": "6fefaa9b-b4a8-4697-8ac2-247a69d324f2",
   "metadata": {
    "tags": []
   },
   "outputs": [],
   "source": [
    "prayTimes.setMethod('Jafari') #paramaterS: MWL, ISNA, Egypt, Makkah, Karachi, Tehran, Jafari\n"
   ]
  },
  {
   "cell_type": "code",
   "execution_count": 117,
   "id": "b60c8a32-5381-411a-b2e5-83e5f75cb51e",
   "metadata": {
    "tags": []
   },
   "outputs": [],
   "source": [
    "# cleanup:\n",
    "unique_facilities = df[\"Reporting Facility\"].unique()\n",
    "unique_facilities = unique_facilities[1:]\n",
    "for unique_facility in unique_facilities:\n",
    "    df = df[~df['LatitudeLat'].str.contains(unique_facility[:5])]\n",
    "df = df[~df['LatitudeLat'].str.contains(\"Gap\")]\n",
    "\n",
    "df = df.iloc[5:-5]\n",
    "# df = df[~df['LatitudeLat'].str.contains('FlightAware')]\n",
    "# df = df[~df['LatitudeLat'].str.contains('Gander')]\n",
    "# df = df[~df['LatitudeLat'].str.contains('Surface')]\n",
    "# df = df[~df['LatitudeLat'].str.contains('Estimated')]\n",
    "# df = df[~df['LatitudeLat'].str.contains('Montreal')]\n",
    "# df = df[~df['LatitudeLat'].str.contains('Airline')]\n",
    "\n",
    "# df = df.iloc[1:]\n",
    "\n",
    "# df = df.iloc[:-5]\n",
    "\n",
    "df.to_csv('test.csv')\n",
    "\n",
    "# Todo: stop before the last row, or remove the last row.\n"
   ]
  },
  {
   "cell_type": "code",
   "execution_count": 118,
   "id": "840eb178-da6c-42a8-94fb-1ece01e06269",
   "metadata": {
    "tags": []
   },
   "outputs": [],
   "source": [
    "#df = pd_flighthistory[0]\n",
    "date = (2025, 7, 29)\n",
    "#CalculationMethod.\n",
    "format = \"%I:%M %p\"\n",
    "\n",
    "\n",
    "\n",
    "NumRecords = len(df)\n",
    "#print(NumRecords)\n",
    "longitudes = np.zeros(NumRecords)\n",
    "latitudes = np.zeros(NumRecords)\n",
    "fajr_times = np.zeros(NumRecords)\n",
    "dhuhr_times = np.zeros(NumRecords)\n",
    "asr_times = np.zeros(NumRecords)\n",
    "isha_times = np.zeros(NumRecords)\n",
    "maghrib_times = np.zeros(NumRecords)\n",
    "sunrise_times = np.zeros(NumRecords)\n",
    "\n",
    "flight_times = np.zeros(NumRecords)\n",
    "end_row = df['LatitudeLat'].str.contains('Surface').count()\n",
    "invalidTime =  '-----'\n",
    "\n",
    "ind = 0\n",
    "#for ind_rec in np.arange(1 , NumRecords):\n",
    "for ind_rec, row in df.iterrows():\n",
    "    #print(ind_rec)\n",
    "    height = 35000\n",
    "    loc_latitude = float(df.LatitudeLat[ind_rec][:6])\n",
    "    loc_longitude = float(df.LongitudeLon[ind_rec][:6])\n",
    "    coordinates = (loc_latitude, loc_longitude, height)\n",
    "    # date = df.date\n",
    "    #prayer_times = PrayerTimes(coordinates, date, calculation_parameters=params)\n",
    "    prayer_times = prayTimes.getTimes(date, coordinates, -4)#calculation_parameters=params)\n",
    "\n",
    "    #prayer_times = PrayerTimes(coordinates, df.date[ind_rec], calculation_parameters=params)\n",
    "    fajr_time = prayer_times['fajr']#.astimezone(tz).strftime(format)\n",
    "    dhuhr_time = prayer_times['dhuhr']#.astimezone(tz).strftime(format)\n",
    "    asr_time = prayer_times['asr']\n",
    "    maghrib_time = prayer_times['maghrib']#.astimezone(tz).strftime(format)\n",
    "\n",
    "    isha_time = prayer_times['isha']#.astimezone(tz).strftime(format)\n",
    "    sunrise_time = prayer_times['sunrise']#.astimezone(tz).strftime(format)\n",
    "    \n",
    "    \n",
    "    \n",
    "    ext_hr_flight, ext_mins_flight = Extract24HrTime(df['Time (EDT)EDT'][ind_rec][4:])\n",
    "    \n",
    "    ext_hr_fajr, ext_mins_fajr = Parse24HrTime(fajr_time)\n",
    "    ext_hr_dhuhr, ext_mins_dhuhr = Parse24HrTime(dhuhr_time)\n",
    "    ext_hr_asr, ext_mins_asr = Parse24HrTime(asr_time)\n",
    "\n",
    "    ext_hr_maghrib, ext_mins_maghrib = Parse24HrTime(maghrib_time)\n",
    "\n",
    "    ext_hr_isha, ext_mins_isha = Parse24HrTime(isha_time)\n",
    "\n",
    "    ext_hr_sunrise, ext_mins_sunrise = Parse24HrTime(sunrise_time)\n",
    "\n",
    "    \n",
    "    flight_times[ind] = ext_hr_flight + ext_mins_flight/60\n",
    "    \n",
    "    fajr_times[ind] = ext_hr_fajr + ext_mins_fajr/60\n",
    "    sunrise_times[ind] = ext_hr_sunrise + ext_mins_sunrise/60\n",
    "    dhuhr_times[ind] = ext_hr_dhuhr + ext_mins_dhuhr/60\n",
    "    asr_times[ind] = ext_hr_asr + ext_mins_asr/60\n",
    "    maghrib_times[ind] = ext_hr_maghrib + ext_mins_maghrib/60\n",
    "    isha_times[ind] = ext_hr_isha + ext_mins_isha/60\n",
    "    longitudes[ind] = loc_longitude\n",
    "    latitudes[ind] = loc_latitude\n",
    "    ind +=1\n",
    "    \n"
   ]
  },
  {
   "cell_type": "code",
   "execution_count": 119,
   "id": "9b74b95b-dc03-4116-aae7-27759f5e0c73",
   "metadata": {
    "tags": []
   },
   "outputs": [
    {
     "data": {
      "text/plain": [
       "[<matplotlib.lines.Line2D at 0x155de50d0>]"
      ]
     },
     "execution_count": 119,
     "metadata": {},
     "output_type": "execute_result"
    },
    {
     "data": {
      "image/png": "[encoded data removed]",
      "text/plain": [
       "<Figure size 640x480 with 2 Axes>"
      ]
     },
     "metadata": {},
     "output_type": "display_data"
    }
   ],
   "source": [
    "fig, ax = plt.subplots(2)\n",
    "ax[0].plot(longitudes)\n",
    "ax[1].plot(latitudes)\n"
   ]
  },
  {
   "cell_type": "code",
   "execution_count": 120,
   "id": "f308d57c-c6a0-49a9-969b-8348985ac733",
   "metadata": {
    "tags": []
   },
   "outputs": [
    {
     "name": "stdout",
     "output_type": "stream",
     "text": [
      "Dhuhr Time is at (12, 43.00000000000001, 'PM')\n",
      "Maghrib Time is at nan\n",
      "Fajr Time is at nan\n",
      "Sunrise Time is at nan\n"
     ]
    },
    {
     "name": "stderr",
     "output_type": "stream",
     "text": [
      "/Users/zzaidi/anaconda3/lib/python3.11/site-packages/matplotlib/axes/_base.py:2503: UserWarning: Warning: converting a masked element to nan.\n",
      "  xys = np.asarray(xys)\n"
     ]
    },
    {
     "data": {
      "text/plain": [
       "<matplotlib.legend.Legend at 0x155fe6390>"
      ]
     },
     "execution_count": 120,
     "metadata": {},
     "output_type": "execute_result"
    },
    {
     "data": {
      "image/png": "[encoded data removed]",
      "text/plain": [
       "<Figure size 1000x1000 with 4 Axes>"
      ]
     },
     "metadata": {},
     "output_type": "display_data"
    },
    {
     "data": {
      "image/png": "[encoded data removed]",
      "text/plain": [
       "<Figure size 640x480 with 1 Axes>"
      ]
     },
     "metadata": {},
     "output_type": "display_data"
    }
   ],
   "source": [
    "maghrib_times = maghrib_times #+ 20/60 # Shia correction\n",
    "diff_dhuhr = np.abs(dhuhr_times - flight_times)\n",
    "diff_maghrib = np.abs(maghrib_times - flight_times)\n",
    "diff_fajr = np.abs(fajr_times - flight_times)\n",
    "diff_sunrise = np.abs(sunrise_times - flight_times)\n",
    "\n",
    "fig, ax = plt.subplots(4, figsize= (10,10) )\n",
    "ax[0].plot(flight_times)\n",
    "ax[1].plot(flight_times)\n",
    "ax[2].plot(flight_times)\n",
    "ax[3].plot(flight_times)\n",
    "\n",
    "\n",
    "ax[0].plot(dhuhr_times)\n",
    "#ax[0].plot(diff_dhuhr)\n",
    "ax[1].plot(maghrib_times)\n",
    "#ax[1].plot(diff_maghrib)\n",
    "ax[2].plot(fajr_times)\n",
    "#ax[2].plot(diff_fajr)\n",
    "ax[3].plot(sunrise_times)\n",
    "\n",
    "ax[0].legend(['flight', 'dhuhr'])#, 'diff_dhuhr'])\n",
    "ax[1].legend(['flight', 'maghrib'])#, 'diff_maghrib'])\n",
    "ax[2].legend(['flight', 'fajr'])#, 'diff_fajr'])\n",
    "ax[3].legend(['flight', 'sunrise'])\n",
    "\n",
    "# fajr_time_24hr = np.argwhere(diff_fajr == 0)\n",
    "# dhuhr_time_24hr = np.argwhere(diff_dhuhr == 0)[0]\n",
    "# maghrib_time_24hr = np.argwhere(diff_maghrib == 0)[0]\n",
    "# sunrise_time_24hr = np.argwhere(diff_sunrise == 0)[0]\n",
    "\n",
    "fajr_ind, fajr_time = calculate_inflight_prayertime(diff_fajr, flight_times)\n",
    "dhuhr_ind, dhuhr_time = calculate_inflight_prayertime(diff_dhuhr, flight_times)\n",
    "maghrib_ind, maghrib_time = calculate_inflight_prayertime(diff_maghrib, flight_times)\n",
    "sunrise_ind, sunrise_time = calculate_inflight_prayertime(diff_sunrise, flight_times)\n",
    "\n",
    "ax[2].vlines(fajr_ind, 0 ,25, color = 'Red')\n",
    "ax[0].vlines(dhuhr_ind, 0 ,25, color = 'Red')\n",
    "ax[1].vlines(maghrib_ind, 0 ,25, color = 'Red')\n",
    "ax[3].vlines(sunrise_ind, 0 ,25, color = 'Red')\n",
    "            \n",
    "# print(f'Dhuhr Time is at {ConvertTo12Hr(flight_times[np.argmin(diff_dhuhr)])}')\n",
    "print(f'Dhuhr Time is at {dhuhr_time}')\n",
    "\n",
    "# print(f'Maghrib Time is at {ConvertTo12Hr(flight_times[np.argmin(diff_maghrib)])}')\n",
    "print(f'Maghrib Time is at {maghrib_time}')\n",
    "\n",
    "print(f'Fajr Time is at {fajr_time}')\n",
    "print(f'Sunrise Time is at {sunrise_time}')\n",
    "\n",
    "fig, ax = plt.subplots()\n",
    "ax.plot(dhuhr_times)\n",
    "ax.plot(maghrib_times)\n",
    "ax.plot(fajr_times)\n",
    "ax.plot(sunrise_times)\n",
    "ax.legend(['dhuhr', 'maghrib', 'fajr', 'sunrise'])"
   ]
  },
  {
   "cell_type": "code",
   "execution_count": 121,
   "id": "544f156c-aa03-4472-933a-9f7dde3ba822",
   "metadata": {
    "tags": []
   },
   "outputs": [
    {
     "data": {
      "text/plain": [
       "array([], shape=(0, 1), dtype=int64)"
      ]
     },
     "execution_count": 121,
     "metadata": {},
     "output_type": "execute_result"
    },
    {
     "data": {
      "image/png": "[encoded data removed]",
      "text/plain": [
       "<Figure size 640x480 with 1 Axes>"
      ]
     },
     "metadata": {},
     "output_type": "display_data"
    }
   ],
   "source": [
    "fig, ax = plt.subplots()\n",
    "ax.plot(maghrib_times, label = 'maghrib')\n",
    "ax.plot(diff_maghrib, label = 'diffmaghrib')\n",
    "ax.legend()\n",
    "np.argwhere(diff_maghrib == 0) \n"
   ]
  },
  {
   "cell_type": "code",
   "execution_count": 47,
   "id": "415d6fd6-6840-4829-b1b9-57c6384aac90",
   "metadata": {
    "tags": []
   },
   "outputs": [
    {
     "data": {
      "text/plain": [
       "array([[148],\n",
       "       [149],\n",
       "       [726],\n",
       "       [727]])"
      ]
     },
     "execution_count": 47,
     "metadata": {},
     "output_type": "execute_result"
    },
    {
     "data": {
      "image/png": "[encoded data removed]",
      "text/plain": [
       "<Figure size 640x480 with 1 Axes>"
      ]
     },
     "metadata": {},
     "output_type": "display_data"
    }
   ],
   "source": [
    "fig, ax = plt.subplots()\n",
    "ax.plot(dhuhr_times, label = 'dhur')\n",
    "ax.plot(diff_dhuhr, label = 'diffdhur')\n",
    "ax.legend()\n",
    "\n",
    "np.argwhere(diff_dhuhr == 0)"
   ]
  },
  {
   "cell_type": "code",
   "execution_count": 53,
   "id": "0e20c7f9-b16d-4572-bdc4-b803dc99a7a8",
   "metadata": {
    "tags": []
   },
   "outputs": [
    {
     "name": "stdout",
     "output_type": "stream",
     "text": [
      "0.0\n"
     ]
    },
    {
     "data": {
      "image/png": "[encoded data removed]",
      "text/plain": [
       "<Figure size 640x480 with 1 Axes>"
      ]
     },
     "metadata": {},
     "output_type": "display_data"
    }
   ],
   "source": [
    "fig, ax = plt.subplots()\n",
    "ax.plot(maghrib_times)\n",
    "\n",
    "print(maghrib_times[380])"
   ]
  },
  {
   "cell_type": "code",
   "execution_count": 36,
   "id": "f880d566-da6e-4f1c-9685-20847dc81aa8",
   "metadata": {
    "tags": []
   },
   "outputs": [
    {
     "data": {
      "text/plain": [
       "array([False, False, False, False, False, False, False, False, False,\n",
       "       False, False, False, False, False, False, False, False, False,\n",
       "       False, False, False, False, False, False, False, False, False,\n",
       "       False, False, False, False, False, False, False, False, False,\n",
       "       False, False, False, False, False, False, False, False, False,\n",
       "       False, False, False, False, False, False, False, False, False,\n",
       "       False, False, False, False, False, False, False, False, False,\n",
       "       False, False, False, False, False, False, False, False, False,\n",
       "       False, False, False, False, False, False, False, False, False,\n",
       "       False, False, False, False, False, False, False, False, False,\n",
       "       False, False, False, False, False, False, False, False, False,\n",
       "       False, False, False, False, False, False, False, False, False,\n",
       "       False, False, False, False, False, False, False, False, False,\n",
       "       False, False, False, False, False, False, False, False, False,\n",
       "       False, False, False, False, False, False, False, False, False,\n",
       "       False, False, False, False, False, False, False, False, False,\n",
       "       False, False, False, False, False, False, False, False, False,\n",
       "       False, False, False, False, False, False, False, False, False,\n",
       "       False, False, False, False, False, False, False, False, False,\n",
       "       False, False, False, False, False, False, False, False, False,\n",
       "       False, False, False, False, False, False, False, False, False,\n",
       "       False, False, False, False, False, False, False, False, False,\n",
       "       False, False, False, False, False, False, False, False, False,\n",
       "       False, False, False, False, False, False, False, False, False,\n",
       "       False, False, False, False, False, False, False, False, False,\n",
       "       False, False, False, False, False, False, False, False, False,\n",
       "       False, False, False, False, False, False, False, False, False,\n",
       "       False, False, False, False, False, False, False, False, False,\n",
       "       False, False, False, False, False, False, False, False, False,\n",
       "       False, False, False, False, False, False, False, False, False,\n",
       "       False, False, False, False, False, False, False, False, False,\n",
       "       False, False, False, False, False, False, False, False, False,\n",
       "       False, False, False, False, False, False, False, False, False,\n",
       "       False, False, False, False, False, False, False, False, False,\n",
       "       False, False, False, False, False, False, False, False, False,\n",
       "       False, False, False, False, False, False, False, False, False,\n",
       "       False, False, False, False, False, False, False, False, False,\n",
       "       False, False, False, False, False, False, False, False, False,\n",
       "       False, False, False, False, False, False, False, False, False,\n",
       "       False, False, False, False, False, False, False, False, False,\n",
       "       False, False, False, False,  True,  True,  True,  True,  True,\n",
       "        True,  True,  True,  True,  True,  True,  True,  True,  True,\n",
       "        True,  True,  True,  True,  True,  True,  True,  True,  True,\n",
       "        True,  True,  True,  True,  True,  True, False, False, False,\n",
       "       False, False, False, False, False, False, False, False, False,\n",
       "       False, False, False, False, False, False, False, False, False,\n",
       "       False, False, False, False, False, False, False, False, False,\n",
       "       False, False, False, False, False, False, False, False, False,\n",
       "       False, False, False, False, False, False, False, False, False,\n",
       "       False, False, False, False, False, False, False, False, False,\n",
       "       False, False, False, False, False, False, False, False, False,\n",
       "       False, False, False, False, False, False, False, False, False,\n",
       "       False, False, False, False, False, False, False, False, False,\n",
       "       False, False, False, False, False, False, False, False, False,\n",
       "       False, False, False, False, False, False, False, False, False,\n",
       "       False, False, False, False, False, False, False, False, False,\n",
       "       False, False, False, False, False, False, False, False, False,\n",
       "       False, False, False, False, False, False, False, False, False,\n",
       "       False, False, False, False, False, False, False, False, False,\n",
       "       False, False, False, False, False, False, False, False, False,\n",
       "       False, False, False, False, False, False, False, False, False,\n",
       "       False, False, False, False, False, False, False, False, False,\n",
       "       False, False, False, False, False, False, False, False, False,\n",
       "       False, False, False, False, False, False, False, False, False,\n",
       "       False, False, False, False, False, False, False, False, False,\n",
       "       False, False, False, False, False, False, False, False, False,\n",
       "       False, False, False, False, False, False, False, False, False,\n",
       "       False, False, False, False, False, False, False, False, False,\n",
       "       False, False, False, False, False, False, False, False, False,\n",
       "       False, False, False, False, False, False, False, False, False,\n",
       "       False, False, False, False, False, False, False, False, False,\n",
       "       False, False, False, False, False, False, False, False, False,\n",
       "       False, False, False, False, False, False, False, False, False,\n",
       "       False, False, False, False, False, False, False, False, False,\n",
       "       False, False, False, False, False, False, False, False, False,\n",
       "       False, False, False, False, False, False, False, False, False,\n",
       "       False, False, False, False, False, False, False, False, False,\n",
       "       False, False, False, False, False, False, False, False, False,\n",
       "       False, False, False, False, False, False, False, False, False,\n",
       "       False, False, False, False, False, False, False, False, False,\n",
       "       False, False, False, False, False, False, False, False, False,\n",
       "       False, False, False, False, False, False, False, False, False,\n",
       "       False, False, False, False, False, False, False, False, False,\n",
       "       False, False, False, False, False, False, False, False, False,\n",
       "       False, False, False, False, False, False, False, False, False,\n",
       "       False, False, False, False, False, False, False, False, False,\n",
       "       False, False, False, False, False, False, False, False, False,\n",
       "       False, False, False, False, False, False, False, False, False,\n",
       "       False, False, False, False, False, False, False, False, False,\n",
       "       False, False, False, False, False, False, False, False, False,\n",
       "       False, False, False, False, False, False, False, False, False,\n",
       "       False, False, False, False, False, False, False, False, False,\n",
       "       False, False])"
      ]
     },
     "execution_count": 36,
     "metadata": {},
     "output_type": "execute_result"
    }
   ],
   "source": [
    "np.isnan(maghrib_times)"
   ]
  },
  {
   "cell_type": "code",
   "execution_count": 15,
   "id": "3e122bbb-d6bc-4c6b-8e4d-9af5ec4f3bab",
   "metadata": {
    "tags": []
   },
   "outputs": [
    {
     "name": "stdout",
     "output_type": "stream",
     "text": [
      "[364 365 366 367 368 369 370 371 372 373 374 375 376 377 378 379 380 381\n",
      " 382 383 384 385 386 387 388 389 390 391 392]\n",
      "[49.69, 64.135]\n"
     ]
    }
   ],
   "source": [
    "bad_maghrib = np.argwhere(maghrib_times == 0.0)\n",
    "\n",
    "print(bad_maghrib[:,0])\n",
    "\n",
    "bad_longitude = longitudes[bad_maghrib[0,0]]\n",
    "bad_latitude = latitudes[bad_maghrib[0,0]]\n",
    "print([bad_longitude, bad_latitude])\n",
    "\n"
   ]
  },
  {
   "cell_type": "code",
   "execution_count": 16,
   "id": "991ad0ee-a992-4e86-8e7e-848ac30064a6",
   "metadata": {
    "tags": []
   },
   "outputs": [
    {
     "name": "stdout",
     "output_type": "stream",
     "text": [
      "(64.135, 49.69, 35000)\n"
     ]
    }
   ],
   "source": [
    "bad_coordinates = (bad_latitude, bad_longitude, height)\n",
    "print(bad_coordinates)\n",
    "prayer_times = prayTimes.getTimes(date, bad_coordinates, -4)#calculation_parameters=params)\n",
    "invalidTime =  '-----'"
   ]
  },
  {
   "cell_type": "code",
   "execution_count": 17,
   "id": "875f4dd1-ba84-4f1f-828b-98897dac15d9",
   "metadata": {
    "tags": []
   },
   "outputs": [
    {
     "name": "stdout",
     "output_type": "stream",
     "text": [
      "invalid time detected\n",
      "nan\n"
     ]
    }
   ],
   "source": [
    "ext_hr_fajr, ext_mins_fajr = Extract24HrTime(prayer_times['fajr'])\n",
    "fajr_time_temp = ext_hr_fajr + ext_mins_fajr/60\n",
    "print(fajr_time_temp)"
   ]
  },
  {
   "cell_type": "code",
   "execution_count": 60,
   "id": "f8df1246-c52d-40ee-a586-d5a5d9d4f581",
   "metadata": {
    "tags": []
   },
   "outputs": [
    {
     "data": {
      "text/plain": [
       "578"
      ]
     },
     "execution_count": 60,
     "metadata": {},
     "output_type": "execute_result"
    }
   ],
   "source": [
    "len(df)"
   ]
  },
  {
   "cell_type": "code",
   "execution_count": 69,
   "id": "b2452335-8575-4f9f-aa03-de9901ddfb5a",
   "metadata": {
    "tags": []
   },
   "outputs": [
    {
     "data": {
      "text/plain": [
       "array([1, 2])"
      ]
     },
     "execution_count": 69,
     "metadata": {},
     "output_type": "execute_result"
    }
   ],
   "source": [
    "np.arange(1,3)"
   ]
  },
  {
   "cell_type": "code",
   "execution_count": 73,
   "id": "8aecee18-25d5-42e2-b234-af92383b3f57",
   "metadata": {
    "tags": []
   },
   "outputs": [],
   "source": [
    "df.to_csv('test.csv')"
   ]
  },
  {
   "cell_type": "code",
   "execution_count": 30,
   "id": "21a70e48-f944-4733-83e7-bd2d10cf99e6",
   "metadata": {
    "tags": []
   },
   "outputs": [
    {
     "data": {
      "text/html": [
       "<div>\n",
       "<style scoped>\n",
       "    .dataframe tbody tr th:only-of-type {\n",
       "        vertical-align: middle;\n",
       "    }\n",
       "\n",
       "    .dataframe tbody tr th {\n",
       "        vertical-align: top;\n",
       "    }\n",
       "\n",
       "    .dataframe thead th {\n",
       "        text-align: right;\n",
       "    }\n",
       "</style>\n",
       "<table border=\"1\" class=\"dataframe\">\n",
       "  <thead>\n",
       "    <tr style=\"text-align: right;\">\n",
       "      <th></th>\n",
       "      <th>0</th>\n",
       "    </tr>\n",
       "  </thead>\n",
       "  <tbody>\n",
       "    <tr>\n",
       "      <th>0</th>\n",
       "      <td>Your browser is unsupported. upgrade your browser</td>\n",
       "    </tr>\n",
       "  </tbody>\n",
       "</table>\n",
       "</div>"
      ],
      "text/plain": [
       "                                                   0\n",
       "0  Your browser is unsupported. upgrade your browser"
      ]
     },
     "execution_count": 30,
     "metadata": {},
     "output_type": "execute_result"
    }
   ],
   "source": [
    "pd_flighthistory[1]"
   ]
  },
  {
   "cell_type": "markdown",
   "id": "0799e4c7-e251-4b81-870e-44aff43460a2",
   "metadata": {},
   "source": [
    "# Debug"
   ]
  },
  {
   "cell_type": "code",
   "execution_count": 68,
   "id": "4d3e417d-a777-463b-9654-e9887482eb5e",
   "metadata": {
    "tags": []
   },
   "outputs": [
    {
     "name": "stdout",
     "output_type": "stream",
     "text": [
      "67.633367.63\n",
      "-51.0833-51.08\n",
      "('67.633367.63', '-51.0833-51.08', 35000)\n"
     ]
    }
   ],
   "source": [
    "ind_rec = 3\n",
    "height = 35000\n",
    "print(df.LatitudeLat[ind_rec])\n",
    "print(df.LongitudeLon[ind_rec])\n",
    "coordinates = (df.LatitudeLat[ind_rec], df.LongitudeLon[ind_rec], height)\n",
    "print(coordinates)\n",
    "\n"
   ]
  },
  {
   "cell_type": "code",
   "execution_count": 75,
   "id": "cc3f3a43-a104-4e1a-845b-bcefbb7ee4bf",
   "metadata": {
    "tags": []
   },
   "outputs": [
    {
     "data": {
      "text/plain": [
       "-71.34"
      ]
     },
     "execution_count": 75,
     "metadata": {},
     "output_type": "execute_result"
    }
   ],
   "source": [
    "# Need to clean df\n",
    "int(-71.34*100)/100"
   ]
  },
  {
   "cell_type": "code",
   "execution_count": 92,
   "id": "c616305a-386e-4897-9172-a3730d3f239e",
   "metadata": {
    "tags": []
   },
   "outputs": [
    {
     "ename": "KeyError",
     "evalue": "6",
     "output_type": "error",
     "traceback": [
      "\u001b[0;31m---------------------------------------------------------------------------\u001b[0m",
      "\u001b[0;31mKeyError\u001b[0m                                  Traceback (most recent call last)",
      "File \u001b[0;32m~/anaconda3/lib/python3.11/site-packages/pandas/core/indexes/base.py:3653\u001b[0m, in \u001b[0;36mIndex.get_loc\u001b[0;34m(self, key)\u001b[0m\n\u001b[1;32m   3652\u001b[0m \u001b[38;5;28;01mtry\u001b[39;00m:\n\u001b[0;32m-> 3653\u001b[0m     \u001b[38;5;28;01mreturn\u001b[39;00m \u001b[38;5;28mself\u001b[39m\u001b[38;5;241m.\u001b[39m_engine\u001b[38;5;241m.\u001b[39mget_loc(casted_key)\n\u001b[1;32m   3654\u001b[0m \u001b[38;5;28;01mexcept\u001b[39;00m \u001b[38;5;167;01mKeyError\u001b[39;00m \u001b[38;5;28;01mas\u001b[39;00m err:\n",
      "File \u001b[0;32m~/anaconda3/lib/python3.11/site-packages/pandas/_libs/index.pyx:147\u001b[0m, in \u001b[0;36mpandas._libs.index.IndexEngine.get_loc\u001b[0;34m()\u001b[0m\n",
      "File \u001b[0;32m~/anaconda3/lib/python3.11/site-packages/pandas/_libs/index.pyx:176\u001b[0m, in \u001b[0;36mpandas._libs.index.IndexEngine.get_loc\u001b[0;34m()\u001b[0m\n",
      "File \u001b[0;32mpandas/_libs/hashtable_class_helper.pxi:2606\u001b[0m, in \u001b[0;36mpandas._libs.hashtable.Int64HashTable.get_item\u001b[0;34m()\u001b[0m\n",
      "File \u001b[0;32mpandas/_libs/hashtable_class_helper.pxi:2630\u001b[0m, in \u001b[0;36mpandas._libs.hashtable.Int64HashTable.get_item\u001b[0;34m()\u001b[0m\n",
      "\u001b[0;31mKeyError\u001b[0m: 6",
      "\nThe above exception was the direct cause of the following exception:\n",
      "\u001b[0;31mKeyError\u001b[0m                                  Traceback (most recent call last)",
      "Cell \u001b[0;32mIn[92], line 1\u001b[0m\n\u001b[0;32m----> 1\u001b[0m \u001b[38;5;28mint\u001b[39m(df\u001b[38;5;241m.\u001b[39mLongitudeLon[ind_rec][:\u001b[38;5;241m6\u001b[39m]\u001b[38;5;241m*\u001b[39m\u001b[38;5;241m100\u001b[39m)\u001b[38;5;241m/\u001b[39m\u001b[38;5;241m100\u001b[39m\n",
      "File \u001b[0;32m~/anaconda3/lib/python3.11/site-packages/pandas/core/series.py:1007\u001b[0m, in \u001b[0;36mSeries.__getitem__\u001b[0;34m(self, key)\u001b[0m\n\u001b[1;32m   1004\u001b[0m     \u001b[38;5;28;01mreturn\u001b[39;00m \u001b[38;5;28mself\u001b[39m\u001b[38;5;241m.\u001b[39m_values[key]\n\u001b[1;32m   1006\u001b[0m \u001b[38;5;28;01melif\u001b[39;00m key_is_scalar:\n\u001b[0;32m-> 1007\u001b[0m     \u001b[38;5;28;01mreturn\u001b[39;00m \u001b[38;5;28mself\u001b[39m\u001b[38;5;241m.\u001b[39m_get_value(key)\n\u001b[1;32m   1009\u001b[0m \u001b[38;5;28;01mif\u001b[39;00m is_hashable(key):\n\u001b[1;32m   1010\u001b[0m     \u001b[38;5;66;03m# Otherwise index.get_value will raise InvalidIndexError\u001b[39;00m\n\u001b[1;32m   1011\u001b[0m     \u001b[38;5;28;01mtry\u001b[39;00m:\n\u001b[1;32m   1012\u001b[0m         \u001b[38;5;66;03m# For labels that don't resolve as scalars like tuples and frozensets\u001b[39;00m\n",
      "File \u001b[0;32m~/anaconda3/lib/python3.11/site-packages/pandas/core/series.py:1116\u001b[0m, in \u001b[0;36mSeries._get_value\u001b[0;34m(self, label, takeable)\u001b[0m\n\u001b[1;32m   1113\u001b[0m     \u001b[38;5;28;01mreturn\u001b[39;00m \u001b[38;5;28mself\u001b[39m\u001b[38;5;241m.\u001b[39m_values[label]\n\u001b[1;32m   1115\u001b[0m \u001b[38;5;66;03m# Similar to Index.get_value, but we do not fall back to positional\u001b[39;00m\n\u001b[0;32m-> 1116\u001b[0m loc \u001b[38;5;241m=\u001b[39m \u001b[38;5;28mself\u001b[39m\u001b[38;5;241m.\u001b[39mindex\u001b[38;5;241m.\u001b[39mget_loc(label)\n\u001b[1;32m   1118\u001b[0m \u001b[38;5;28;01mif\u001b[39;00m is_integer(loc):\n\u001b[1;32m   1119\u001b[0m     \u001b[38;5;28;01mreturn\u001b[39;00m \u001b[38;5;28mself\u001b[39m\u001b[38;5;241m.\u001b[39m_values[loc]\n",
      "File \u001b[0;32m~/anaconda3/lib/python3.11/site-packages/pandas/core/indexes/base.py:3655\u001b[0m, in \u001b[0;36mIndex.get_loc\u001b[0;34m(self, key)\u001b[0m\n\u001b[1;32m   3653\u001b[0m     \u001b[38;5;28;01mreturn\u001b[39;00m \u001b[38;5;28mself\u001b[39m\u001b[38;5;241m.\u001b[39m_engine\u001b[38;5;241m.\u001b[39mget_loc(casted_key)\n\u001b[1;32m   3654\u001b[0m \u001b[38;5;28;01mexcept\u001b[39;00m \u001b[38;5;167;01mKeyError\u001b[39;00m \u001b[38;5;28;01mas\u001b[39;00m err:\n\u001b[0;32m-> 3655\u001b[0m     \u001b[38;5;28;01mraise\u001b[39;00m \u001b[38;5;167;01mKeyError\u001b[39;00m(key) \u001b[38;5;28;01mfrom\u001b[39;00m \u001b[38;5;21;01merr\u001b[39;00m\n\u001b[1;32m   3656\u001b[0m \u001b[38;5;28;01mexcept\u001b[39;00m \u001b[38;5;167;01mTypeError\u001b[39;00m:\n\u001b[1;32m   3657\u001b[0m     \u001b[38;5;66;03m# If we have a listlike key, _check_indexing_error will raise\u001b[39;00m\n\u001b[1;32m   3658\u001b[0m     \u001b[38;5;66;03m#  InvalidIndexError. Otherwise we fall through and re-raise\u001b[39;00m\n\u001b[1;32m   3659\u001b[0m     \u001b[38;5;66;03m#  the TypeError.\u001b[39;00m\n\u001b[1;32m   3660\u001b[0m     \u001b[38;5;28mself\u001b[39m\u001b[38;5;241m.\u001b[39m_check_indexing_error(key)\n",
      "\u001b[0;31mKeyError\u001b[0m: 6"
     ]
    }
   ],
   "source": [
    "int(df.LongitudeLon[ind_rec][:6]*100)/100"
   ]
  },
  {
   "cell_type": "code",
   "execution_count": 94,
   "id": "3c46c0f8-9511-4444-8681-65965c2f1b8b",
   "metadata": {
    "tags": []
   },
   "outputs": [
    {
     "data": {
      "text/plain": [
       "-50.566"
      ]
     },
     "execution_count": 94,
     "metadata": {},
     "output_type": "execute_result"
    }
   ],
   "source": [
    "ind_rec = 5\n",
    "float(df.LongitudeLon[ind_rec][:7])"
   ]
  },
  {
   "cell_type": "code",
   "execution_count": 97,
   "id": "665fba75-b99b-42f7-a0fa-20d9ae76f449",
   "metadata": {
    "tags": []
   },
   "outputs": [
    {
     "data": {
      "text/plain": [
       "'-50.2101-50.21'"
      ]
     },
     "execution_count": 97,
     "metadata": {},
     "output_type": "execute_result"
    }
   ],
   "source": [
    "df.LongitudeLon[7]"
   ]
  },
  {
   "cell_type": "code",
   "execution_count": 151,
   "id": "2103816e-aedc-4675-a7a9-5d76c6407007",
   "metadata": {
    "tags": []
   },
   "outputs": [],
   "source": [
    "df.to_csv('test.csv')"
   ]
  },
  {
   "cell_type": "code",
   "execution_count": 138,
   "id": "d990b0e7-96e3-4e9f-b61d-b7c36e89fa94",
   "metadata": {
    "tags": []
   },
   "outputs": [],
   "source": [
    "df = df[~df['LatitudeLat'].str.contains('FlightAware')]\n",
    "df = df[~df['LatitudeLat'].str.contains('Gander')]\n",
    "df = df[~df['LatitudeLat'].str.contains('Surface')]\n",
    "df = df[~df['LatitudeLat'].str.contains('Estimated')]\n",
    "\n"
   ]
  },
  {
   "cell_type": "code",
   "execution_count": 104,
   "id": "d5938e28-24db-4e55-a310-e51549a013e8",
   "metadata": {
    "tags": []
   },
   "outputs": [
    {
     "data": {
      "text/plain": [
       "578"
      ]
     },
     "execution_count": 104,
     "metadata": {},
     "output_type": "execute_result"
    }
   ],
   "source": []
  },
  {
   "cell_type": "code",
   "execution_count": 56,
   "id": "4c6d5945-9a50-46ee-af84-3b0cd55f611a",
   "metadata": {
    "tags": []
   },
   "outputs": [
    {
     "data": {
      "text/html": [
       "<div>\n",
       "<style scoped>\n",
       "    .dataframe tbody tr th:only-of-type {\n",
       "        vertical-align: middle;\n",
       "    }\n",
       "\n",
       "    .dataframe tbody tr th {\n",
       "        vertical-align: top;\n",
       "    }\n",
       "\n",
       "    .dataframe thead th {\n",
       "        text-align: right;\n",
       "    }\n",
       "</style>\n",
       "<table border=\"1\" class=\"dataframe\">\n",
       "  <thead>\n",
       "    <tr style=\"text-align: right;\">\n",
       "      <th></th>\n",
       "      <th>Time (EDT)EDT</th>\n",
       "      <th>LatitudeLat</th>\n",
       "      <th>LongitudeLon</th>\n",
       "      <th>CourseDir</th>\n",
       "      <th>kts</th>\n",
       "      <th>mph</th>\n",
       "      <th>feet</th>\n",
       "      <th>Rate</th>\n",
       "      <th>Reporting Facility</th>\n",
       "    </tr>\n",
       "  </thead>\n",
       "  <tbody>\n",
       "    <tr>\n",
       "      <th>1</th>\n",
       "      <td>Sat 01:11:46 AM01:11AM</td>\n",
       "      <td>67.433367.43</td>\n",
       "      <td>-51.6333-51.63</td>\n",
       "      <td>↗ 49°</td>\n",
       "      <td>490</td>\n",
       "      <td>564</td>\n",
       "      <td>3.300033e+09</td>\n",
       "      <td>NaN</td>\n",
       "      <td>Gander Center</td>\n",
       "    </tr>\n",
       "    <tr>\n",
       "      <th>2</th>\n",
       "      <td>Sat 01:12:46 AM01:12AM</td>\n",
       "      <td>67.533367.53</td>\n",
       "      <td>-51.3833-51.38</td>\n",
       "      <td>↗ 44°</td>\n",
       "      <td>490</td>\n",
       "      <td>564</td>\n",
       "      <td>3.300033e+09</td>\n",
       "      <td>NaN</td>\n",
       "      <td>Gander Center</td>\n",
       "    </tr>\n",
       "    <tr>\n",
       "      <th>3</th>\n",
       "      <td>Sat 01:13:46 AM01:13AM</td>\n",
       "      <td>67.633367.63</td>\n",
       "      <td>-51.0833-51.08</td>\n",
       "      <td>↗ 49°</td>\n",
       "      <td>490</td>\n",
       "      <td>564</td>\n",
       "      <td>3.300033e+09</td>\n",
       "      <td>NaN</td>\n",
       "      <td>Gander Center</td>\n",
       "    </tr>\n",
       "    <tr>\n",
       "      <th>4</th>\n",
       "      <td>Sat 01:14:46 AM01:14AM</td>\n",
       "      <td>67.716767.72</td>\n",
       "      <td>-50.8333-50.83</td>\n",
       "      <td>↗ 49°</td>\n",
       "      <td>490</td>\n",
       "      <td>564</td>\n",
       "      <td>3.300033e+09</td>\n",
       "      <td>NaN</td>\n",
       "      <td>Gander Center</td>\n",
       "    </tr>\n",
       "    <tr>\n",
       "      <th>5</th>\n",
       "      <td>Sat 01:15:47 AM01:15AM</td>\n",
       "      <td>67.816767.82</td>\n",
       "      <td>-50.5667-50.57</td>\n",
       "      <td>↗ 45°</td>\n",
       "      <td>490</td>\n",
       "      <td>564</td>\n",
       "      <td>3.300033e+09</td>\n",
       "      <td>12.0</td>\n",
       "      <td>Gander Center</td>\n",
       "    </tr>\n",
       "    <tr>\n",
       "      <th>...</th>\n",
       "      <td>...</td>\n",
       "      <td>...</td>\n",
       "      <td>...</td>\n",
       "      <td>...</td>\n",
       "      <td>...</td>\n",
       "      <td>...</td>\n",
       "      <td>...</td>\n",
       "      <td>...</td>\n",
       "      <td>...</td>\n",
       "    </tr>\n",
       "    <tr>\n",
       "      <th>582</th>\n",
       "      <td>Sat 10:19:30 AM10:19AM</td>\n",
       "      <td>31.466931.47</td>\n",
       "      <td>74.403674.40</td>\n",
       "      <td>↑ 1°</td>\n",
       "      <td>157</td>\n",
       "      <td>181</td>\n",
       "      <td>1.900190e+07</td>\n",
       "      <td>-773.0</td>\n",
       "      <td>FlightAware ADS-B (LHE / OPLA)</td>\n",
       "    </tr>\n",
       "    <tr>\n",
       "      <th>583</th>\n",
       "      <td>Sat 10:19:46 AM10:19AM</td>\n",
       "      <td>31.479131.48</td>\n",
       "      <td>74.403874.40</td>\n",
       "      <td>↑ 1°</td>\n",
       "      <td>157</td>\n",
       "      <td>181</td>\n",
       "      <td>1.675168e+07</td>\n",
       "      <td>-814.0</td>\n",
       "      <td>FlightAware ADS-B (LHE / OPLA)</td>\n",
       "    </tr>\n",
       "    <tr>\n",
       "      <th>584</th>\n",
       "      <td>Sat 10:20:05 AM10:20AM</td>\n",
       "      <td>31.493031.49</td>\n",
       "      <td>74.404074.40</td>\n",
       "      <td>↑ 1°</td>\n",
       "      <td>157</td>\n",
       "      <td>181</td>\n",
       "      <td>1.425142e+07</td>\n",
       "      <td>-814.0</td>\n",
       "      <td>FlightAware ADS-B (LHE / OPLA)</td>\n",
       "    </tr>\n",
       "    <tr>\n",
       "      <th>585</th>\n",
       "      <td>Sat 10:20:21 AM10:20AM</td>\n",
       "      <td>31.505331.51</td>\n",
       "      <td>74.404374.40</td>\n",
       "      <td>↑ 1°</td>\n",
       "      <td>156</td>\n",
       "      <td>180</td>\n",
       "      <td>1.200120e+07</td>\n",
       "      <td>-844.0</td>\n",
       "      <td>FlightAware ADS-B (LHE / OPLA)</td>\n",
       "    </tr>\n",
       "    <tr>\n",
       "      <th>587</th>\n",
       "      <td>Sat 10:21:09 AM10:21AM Arrival (LHE) @ Saturda...</td>\n",
       "      <td>Sat 10:21:09 AM10:21AM Arrival (LHE) @ Saturda...</td>\n",
       "      <td>Sat 10:21:09 AM10:21AM Arrival (LHE) @ Saturda...</td>\n",
       "      <td>Sat 10:21:09 AM10:21AM Arrival (LHE) @ Saturda...</td>\n",
       "      <td>Sat 10:21:09 AM10:21AM Arrival (LHE) @ Saturda...</td>\n",
       "      <td>Sat 10:21:09 AM10:21AM Arrival (LHE) @ Saturda...</td>\n",
       "      <td>NaN</td>\n",
       "      <td>NaN</td>\n",
       "      <td>FlightAware</td>\n",
       "    </tr>\n",
       "  </tbody>\n",
       "</table>\n",
       "<p>578 rows × 9 columns</p>\n",
       "</div>"
      ],
      "text/plain": [
       "                                         Time (EDT)EDT  \\\n",
       "1                               Sat 01:11:46 AM01:11AM   \n",
       "2                               Sat 01:12:46 AM01:12AM   \n",
       "3                               Sat 01:13:46 AM01:13AM   \n",
       "4                               Sat 01:14:46 AM01:14AM   \n",
       "5                               Sat 01:15:47 AM01:15AM   \n",
       "..                                                 ...   \n",
       "582                             Sat 10:19:30 AM10:19AM   \n",
       "583                             Sat 10:19:46 AM10:19AM   \n",
       "584                             Sat 10:20:05 AM10:20AM   \n",
       "585                             Sat 10:20:21 AM10:20AM   \n",
       "587  Sat 10:21:09 AM10:21AM Arrival (LHE) @ Saturda...   \n",
       "\n",
       "                                           LatitudeLat  \\\n",
       "1                                         67.433367.43   \n",
       "2                                         67.533367.53   \n",
       "3                                         67.633367.63   \n",
       "4                                         67.716767.72   \n",
       "5                                         67.816767.82   \n",
       "..                                                 ...   \n",
       "582                                       31.466931.47   \n",
       "583                                       31.479131.48   \n",
       "584                                       31.493031.49   \n",
       "585                                       31.505331.51   \n",
       "587  Sat 10:21:09 AM10:21AM Arrival (LHE) @ Saturda...   \n",
       "\n",
       "                                          LongitudeLon  \\\n",
       "1                                       -51.6333-51.63   \n",
       "2                                       -51.3833-51.38   \n",
       "3                                       -51.0833-51.08   \n",
       "4                                       -50.8333-50.83   \n",
       "5                                       -50.5667-50.57   \n",
       "..                                                 ...   \n",
       "582                                       74.403674.40   \n",
       "583                                       74.403874.40   \n",
       "584                                       74.404074.40   \n",
       "585                                       74.404374.40   \n",
       "587  Sat 10:21:09 AM10:21AM Arrival (LHE) @ Saturda...   \n",
       "\n",
       "                                             CourseDir  \\\n",
       "1                                                ↗ 49°   \n",
       "2                                                ↗ 44°   \n",
       "3                                                ↗ 49°   \n",
       "4                                                ↗ 49°   \n",
       "5                                                ↗ 45°   \n",
       "..                                                 ...   \n",
       "582                                               ↑ 1°   \n",
       "583                                               ↑ 1°   \n",
       "584                                               ↑ 1°   \n",
       "585                                               ↑ 1°   \n",
       "587  Sat 10:21:09 AM10:21AM Arrival (LHE) @ Saturda...   \n",
       "\n",
       "                                                   kts  \\\n",
       "1                                                  490   \n",
       "2                                                  490   \n",
       "3                                                  490   \n",
       "4                                                  490   \n",
       "5                                                  490   \n",
       "..                                                 ...   \n",
       "582                                                157   \n",
       "583                                                157   \n",
       "584                                                157   \n",
       "585                                                156   \n",
       "587  Sat 10:21:09 AM10:21AM Arrival (LHE) @ Saturda...   \n",
       "\n",
       "                                                   mph          feet   Rate  \\\n",
       "1                                                  564  3.300033e+09    NaN   \n",
       "2                                                  564  3.300033e+09    NaN   \n",
       "3                                                  564  3.300033e+09    NaN   \n",
       "4                                                  564  3.300033e+09    NaN   \n",
       "5                                                  564  3.300033e+09   12.0   \n",
       "..                                                 ...           ...    ...   \n",
       "582                                                181  1.900190e+07 -773.0   \n",
       "583                                                181  1.675168e+07 -814.0   \n",
       "584                                                181  1.425142e+07 -814.0   \n",
       "585                                                180  1.200120e+07 -844.0   \n",
       "587  Sat 10:21:09 AM10:21AM Arrival (LHE) @ Saturda...           NaN    NaN   \n",
       "\n",
       "                 Reporting Facility  \n",
       "1                     Gander Center  \n",
       "2                     Gander Center  \n",
       "3                     Gander Center  \n",
       "4                     Gander Center  \n",
       "5                     Gander Center  \n",
       "..                              ...  \n",
       "582  FlightAware ADS-B (LHE / OPLA)  \n",
       "583  FlightAware ADS-B (LHE / OPLA)  \n",
       "584  FlightAware ADS-B (LHE / OPLA)  \n",
       "585  FlightAware ADS-B (LHE / OPLA)  \n",
       "587                     FlightAware  \n",
       "\n",
       "[578 rows x 9 columns]"
      ]
     },
     "execution_count": 56,
     "metadata": {},
     "output_type": "execute_result"
    }
   ],
   "source": [
    "df"
   ]
  },
  {
   "cell_type": "code",
   "execution_count": 42,
   "id": "b6fff9aa-293b-423d-9bdd-c7da682d24e4",
   "metadata": {
    "tags": []
   },
   "outputs": [
    {
     "data": {
      "text/plain": [
       "0                                          Gander Center\n",
       "1                                           67.433367.43\n",
       "2                                           67.533367.53\n",
       "3                                           67.633367.63\n",
       "4                                           67.716767.72\n",
       "                             ...                        \n",
       "583                                         31.479131.48\n",
       "584                                         31.493031.49\n",
       "585                                         31.505331.51\n",
       "586                                          FlightAware\n",
       "587    Sat 10:21:09 AM10:21AM Arrival (LHE) @ Saturda...\n",
       "Name: LatitudeLat, Length: 588, dtype: object"
      ]
     },
     "execution_count": 42,
     "metadata": {},
     "output_type": "execute_result"
    }
   ],
   "source": [
    "df['LatitudeLat']"
   ]
  },
  {
   "cell_type": "code",
   "execution_count": null,
   "id": "c8fdaeec-a1b0-4eac-b0b5-ce6edfe26750",
   "metadata": {},
   "outputs": [],
   "source": []
  }
 ],
 "metadata": {
  "kernelspec": {
   "display_name": "Python 3 (ipykernel)",
   "language": "python",
   "name": "python3"
  },
  "language_info": {
   "codemirror_mode": {
    "name": "ipython",
    "version": 3
   },
   "file_extension": ".py",
   "mimetype": "text/x-python",
   "name": "python",
   "nbconvert_exporter": "python",
   "pygments_lexer": "ipython3",
   "version": "3.11.5"
  }
 },
 "nbformat": 4,
 "nbformat_minor": 5
}
