{
 "cells": [
  {
   "cell_type": "code",
   "execution_count": null,
   "id": "4c3f99ba-2297-4c79-892e-44813dc4d4ee",
   "metadata": {},
   "outputs": [],
   "source": [
    "import nump as np\n",
    "imp\n",
    "from pyIslam.baselib import dcos, dsin\n",
    "from math import atan, pi\n",
    "from \n",
    "\n",
    "        self._conf = conf\n",
    "        MAKKAH_LATI = 21.42249   # latitude taken from maps.google.com\n",
    "        MAKKAH_LONG = 39.826174  # longitude taken from maps.google.com\n",
    "        lamda = MAKKAH_LONG - self._conf.longitude\n",
    "        num = dcos(MAKKAH_LATI) * dsin(lamda)\n",
    "        denom = (dsin(MAKKAH_LATI) * dcos(self._conf.latitude)\n",
    "                 - dcos(MAKKAH_LATI) * dsin(self._conf.latitude)\n",
    "                 * dcos(lamda))\n",
    "        self._qiblah_dir = (180 / pi) * atan(num / denom)\n",
    "        \n",
    "        # Needs a check!\n",
    "        if denom < 0:\n",
    "            self._qiblah_dir = 180 + self._qiblah_dir\n",
    "        if denom > 0 and num < 0:\n",
    "            self._qiblah_dir = 360 + self._qiblah_dir\n",
    "\n",
    "        return self._qiblah_dir\n",
    "        six = str(int(self._qiblah_dir)) + '°'\n",
    "        self._qiblah_dir = (self._qiblah_dir - int(self._qiblah_dir)) * 60\n",
    "        six = six + \" \" + str(int(self._qiblah_dir)) + \"'\"\n",
    "        self._qiblah_dir = (self._qiblah_dir - int(self._qiblah_dir)) * 60\n",
    "        six = six + \" \" + str(int(self._qiblah_dir)) + \"''\"\n",
    "        self._qiblah_dir = (self._qiblah_dir - int(self._qiblah_dir)) * 60\n",
    "        return six"
   ]
  },
  {
   "cell_type": "code",
   "execution_count": 8,
   "id": "91bb8149-7ef0-4eef-9875-2953920f22ec",
   "metadata": {
    "tags": []
   },
   "outputs": [],
   "source": [
    "import math\n",
    "\n",
    "def qibla_direction(lat, lon):\n",
    "    # Convert degrees to radians\n",
    "    lat1 = math.radians(lat)\n",
    "    lon1 = math.radians(lon)\n",
    "    lat2 = math.radians(21.4225)  # Kaaba\n",
    "    lon2 = math.radians(39.8262)  # Kaaba\n",
    "\n",
    "    delta_lon = lon2 - lon1\n",
    "\n",
    "    x = math.sin(delta_lon) * math.cos(lat2)\n",
    "    y = math.cos(lat1) * math.sin(lat2) - \\\n",
    "        math.sin(lat1) * math.cos(lat2) * math.cos(delta_lon)\n",
    "\n",
    "    theta = math.atan2(x, y)\n",
    "    bearing = (math.degrees(theta) + 360) % 360\n",
    "\n",
    "    return bearing  # in degrees\n"
   ]
  },
  {
   "cell_type": "code",
   "execution_count": 2,
   "id": "02978944-1e55-4d0b-a025-3c4380ae622f",
   "metadata": {
    "tags": []
   },
   "outputs": [],
   "source": [
    "import numpy as np"
   ]
  },
  {
   "cell_type": "code",
   "execution_count": 9,
   "id": "20327efc-2c18-425a-bc57-8c49e039ea50",
   "metadata": {
    "tags": []
   },
   "outputs": [
    {
     "data": {
      "text/plain": [
       "54.61202981367467"
      ]
     },
     "execution_count": 9,
     "metadata": {},
     "output_type": "execute_result"
    }
   ],
   "source": [
    "qibla_direction(43.65, -79.34)"
   ]
  },
  {
   "cell_type": "code",
   "execution_count": 13,
   "id": "093c56c4-87da-475d-9e49-8f5938b80327",
   "metadata": {
    "tags": []
   },
   "outputs": [
    {
     "name": "stdout",
     "output_type": "stream",
     "text": [
      "54.60689638760914\n"
     ]
    }
   ],
   "source": [
    "print(qibla_direction(43.65107, -79.347015))  # Output: ~ 49.1 degrees\n"
   ]
  },
  {
   "cell_type": "code",
   "execution_count": 14,
   "id": "ddca1378-a0d2-4abd-b4e9-d91b660c0584",
   "metadata": {
    "tags": []
   },
   "outputs": [
    {
     "name": "stdout",
     "output_type": "stream",
     "text": [
      "255.95698314874608\n"
     ]
    }
   ],
   "source": [
    "# Islamabad 143.33\n",
    "#33, 73\n",
    "\n",
    "\n",
    "print(qibla_direction(33.693, 73.114))  # Output: ~ 49.1 degrees\n"
   ]
  },
  {
   "cell_type": "code",
   "execution_count": 15,
   "id": "5a599e4b-f913-412a-95c1-ee0acf9c9b7e",
   "metadata": {
    "tags": []
   },
   "outputs": [
    {
     "data": {
      "text/plain": [
       "105"
      ]
     },
     "execution_count": 15,
     "metadata": {},
     "output_type": "execute_result"
    }
   ],
   "source": [
    "360-255"
   ]
  },
  {
   "cell_type": "code",
   "execution_count": null,
   "id": "1bd77be2-06b9-40ad-993d-7e6ad3865e35",
   "metadata": {},
   "outputs": [],
   "source": []
  }
 ],
 "metadata": {
  "kernelspec": {
   "display_name": "Python 3 (ipykernel)",
   "language": "python",
   "name": "python3"
  },
  "language_info": {
   "codemirror_mode": {
    "name": "ipython",
    "version": 3
   },
   "file_extension": ".py",
   "mimetype": "text/x-python",
   "name": "python",
   "nbconvert_exporter": "python",
   "pygments_lexer": "ipython3",
   "version": "3.11.5"
  }
 },
 "nbformat": 4,
 "nbformat_minor": 5
}
