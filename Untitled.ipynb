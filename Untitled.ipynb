{
 "cells": [
  {
   "cell_type": "code",
   "execution_count": 5,
   "id": "8c0a8523-204a-4710-be39-22e5b904d117",
   "metadata": {
    "tags": []
   },
   "outputs": [],
   "source": [
    "from PrayTimes import prayTimes\n",
    "from datetime import date"
   ]
  },
  {
   "cell_type": "code",
   "execution_count": 15,
   "id": "dc895d79-74f6-4d09-a760-a1c3d31de81f",
   "metadata": {
    "tags": []
   },
   "outputs": [],
   "source": [
    "prayTimes.setMethod('jafari')\n",
    "coordinates = (35.7750, -78.6336)\n",
    "# coordinates = (43.65, -79.34)\n",
    "\n",
    "times = prayTimes.getTimes(date.today(),coordinates, -4)\n",
    "\n",
    "#43.651070° N latitude and -79.347015° W longitude."
   ]
  },
  {
   "cell_type": "code",
   "execution_count": 7,
   "id": "3ec8baf7-bd6c-4f60-87ab-f42dfacef01a",
   "metadata": {
    "tags": []
   },
   "outputs": [
    {
     "data": {
      "text/plain": [
       "\u001b[0;31mSignature:\u001b[0m \u001b[0mprayTimes\u001b[0m\u001b[0;34m.\u001b[0m\u001b[0mgetTimes\u001b[0m\u001b[0;34m(\u001b[0m\u001b[0mdate\u001b[0m\u001b[0;34m,\u001b[0m \u001b[0mcoords\u001b[0m\u001b[0;34m,\u001b[0m \u001b[0mtimezone\u001b[0m\u001b[0;34m,\u001b[0m \u001b[0mdst\u001b[0m\u001b[0;34m=\u001b[0m\u001b[0;36m0\u001b[0m\u001b[0;34m,\u001b[0m \u001b[0mformat\u001b[0m\u001b[0;34m=\u001b[0m\u001b[0;32mNone\u001b[0m\u001b[0;34m)\u001b[0m\u001b[0;34m\u001b[0m\u001b[0;34m\u001b[0m\u001b[0m\n",
       "\u001b[0;31mDocstring:\u001b[0m <no docstring>\n",
       "\u001b[0;31mFile:\u001b[0m      ~/Desktop/FlightPrayerTime/PrayTimes.py\n",
       "\u001b[0;31mType:\u001b[0m      method"
      ]
     },
     "metadata": {},
     "output_type": "display_data"
    }
   ],
   "source": [
    "prayTimes.getTimes(date.today"
   ]
  },
  {
   "cell_type": "code",
   "execution_count": 16,
   "id": "e193a354-7aba-496d-a28d-bb97ed82e772",
   "metadata": {
    "tags": []
   },
   "outputs": [
    {
     "data": {
      "text/plain": [
       "'13:11'"
      ]
     },
     "execution_count": 16,
     "metadata": {},
     "output_type": "execute_result"
    }
   ],
   "source": [
    "times['dhuhr']"
   ]
  },
  {
   "cell_type": "code",
   "execution_count": 17,
   "id": "ae671981-1040-43f6-be1e-d973097dd426",
   "metadata": {
    "tags": []
   },
   "outputs": [
    {
     "data": {
      "text/plain": [
       "{'imsak': '04:32',\n",
       " 'fajr': '04:42',\n",
       " 'sunrise': '06:10',\n",
       " 'dhuhr': '13:11',\n",
       " 'asr': '16:58',\n",
       " 'sunset': '20:12',\n",
       " 'maghrib': '20:30',\n",
       " 'isha': '21:28',\n",
       " 'midnight': '00:27'}"
      ]
     },
     "execution_count": 17,
     "metadata": {},
     "output_type": "execute_result"
    }
   ],
   "source": [
    "times"
   ]
  },
  {
   "cell_type": "code",
   "execution_count": 19,
   "id": "acb72986-f4b2-40ba-9ee5-395e1ccdfe84",
   "metadata": {
    "tags": []
   },
   "outputs": [
    {
     "data": {
      "text/plain": [
       "'04:32'"
      ]
     },
     "execution_count": 19,
     "metadata": {},
     "output_type": "execute_result"
    }
   ],
   "source": [
    "times['imsak']"
   ]
  },
  {
   "cell_type": "code",
   "execution_count": null,
   "id": "90414b4f-704b-451e-873b-5300934a1551",
   "metadata": {},
   "outputs": [],
   "source": []
  }
 ],
 "metadata": {
  "kernelspec": {
   "display_name": "Python 3 (ipykernel)",
   "language": "python",
   "name": "python3"
  },
  "language_info": {
   "codemirror_mode": {
    "name": "ipython",
    "version": 3
   },
   "file_extension": ".py",
   "mimetype": "text/x-python",
   "name": "python",
   "nbconvert_exporter": "python",
   "pygments_lexer": "ipython3",
   "version": "3.11.5"
  }
 },
 "nbformat": 4,
 "nbformat_minor": 5
}
