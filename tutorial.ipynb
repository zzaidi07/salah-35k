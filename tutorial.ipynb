{
 "cells": [
  {
   "cell_type": "code",
   "execution_count": 1,
   "id": "0ded00a8-2132-49be-a5b4-80b10d856cbc",
   "metadata": {
    "tags": []
   },
   "outputs": [],
   "source": [
    "import numpy as np\n",
    "import math\n",
    "import pandas as pd\n",
    "import matplotlib.pyplot as plt\n",
    "from PrayTimes import prayTimes"
   ]
  },
  {
   "cell_type": "code",
   "execution_count": 2,
   "id": "de1a2d02-9d06-49f0-86a7-98e1c25666da",
   "metadata": {
    "tags": []
   },
   "outputs": [
    {
     "data": {
      "text/plain": [
       "{'MWL': {'name': 'Muslim World League',\n",
       "  'params': {'fajr': 18,\n",
       "   'isha': 17,\n",
       "   'maghrib': '0 min',\n",
       "   'midnight': 'Standard'}},\n",
       " 'ISNA': {'name': 'Islamic Society of North America (ISNA)',\n",
       "  'params': {'fajr': 15,\n",
       "   'isha': 15,\n",
       "   'maghrib': '0 min',\n",
       "   'midnight': 'Standard'}},\n",
       " 'Egypt': {'name': 'Egyptian General Authority of Survey',\n",
       "  'params': {'fajr': 19.5,\n",
       "   'isha': 17.5,\n",
       "   'maghrib': '0 min',\n",
       "   'midnight': 'Standard'}},\n",
       " 'Makkah': {'name': 'Umm Al-Qura University, Makkah',\n",
       "  'params': {'fajr': 18.5,\n",
       "   'isha': '90 min',\n",
       "   'maghrib': '0 min',\n",
       "   'midnight': 'Standard'}},\n",
       " 'Karachi': {'name': 'University of Islamic Sciences, Karachi',\n",
       "  'params': {'fajr': 18,\n",
       "   'isha': 18,\n",
       "   'maghrib': '0 min',\n",
       "   'midnight': 'Standard'}},\n",
       " 'Tehran': {'name': 'Institute of Geophysics, University of Tehran',\n",
       "  'params': {'fajr': 17.7, 'isha': 14, 'maghrib': 4.5, 'midnight': 'Jafari'}},\n",
       " 'Jafari': {'name': 'Shia Ithna-Ashari, Leva Institute, Qum',\n",
       "  'params': {'fajr': 16, 'isha': 14, 'maghrib': 4, 'midnight': 'Jafari'}}}"
      ]
     },
     "execution_count": 2,
     "metadata": {},
     "output_type": "execute_result"
    }
   ],
   "source": [
    "prayTimes.methods"
   ]
  },
  {
   "cell_type": "code",
   "execution_count": 7,
   "id": "78046ef6-fdce-417a-a3f5-cfe7712892d2",
   "metadata": {
    "tags": []
   },
   "outputs": [
    {
     "data": {
      "text/plain": [
       "{'imsak': '03:50',\n",
       " 'fajr': '04:00',\n",
       " 'sunrise': '05:29',\n",
       " 'dhuhr': '12:13',\n",
       " 'asr': '15:53',\n",
       " 'sunset': '18:56',\n",
       " 'maghrib': '18:56',\n",
       " 'isha': '20:24',\n",
       " 'midnight': '00:12'}"
      ]
     },
     "execution_count": 7,
     "metadata": {},
     "output_type": "execute_result"
    }
   ],
   "source": [
    "prayTimes.setMethod('Karachi')\n",
    "date = (2025, 8, 14)\n",
    "toronto_latitude = 33\n",
    "toronto_longitude = 73#-79.34\n",
    "toronto_elevation = 76\n",
    "toronto_timezone = 5\n",
    "coordinates = (toronto_latitude, toronto_longitude, toronto_elevation)\n",
    "prayer_times = prayTimes.getTimes(date, coordinates, toronto_timezone)\n",
    "prayer_times"
   ]
  },
  {
   "cell_type": "code",
   "execution_count": 24,
   "id": "05c62aba-a0d6-4c53-89d8-16ebf2f4a062",
   "metadata": {
    "tags": []
   },
   "outputs": [
    {
     "data": {
      "text/plain": [
       "'03:57'"
      ]
     },
     "execution_count": 24,
     "metadata": {},
     "output_type": "execute_result"
    }
   ],
   "source": [
    "prayer_times['fajr']"
   ]
  },
  {
   "cell_type": "markdown",
   "id": "f3697ddc-76c5-443d-8bbd-992a69b27dfb",
   "metadata": {},
   "source": [
    "# Debug"
   ]
  },
  {
   "cell_type": "code",
   "execution_count": 8,
   "id": "881209f4-3b9f-49de-96cd-1fb987155a08",
   "metadata": {
    "tags": []
   },
   "outputs": [],
   "source": [
    "methods = {\n",
    "\t\t'MWL': {\n",
    "\t\t\t'name': 'Muslim World League',\n",
    "\t\t\t'params': { 'fajr': 18, 'isha': 17 } },\n",
    "\t\t'ISNA': {\n",
    "\t\t\t'name': 'Islamic Society of North America (ISNA)',\n",
    "\t\t\t'params': { 'fajr': 15, 'isha': 15 } },\n",
    "\t\t'Egypt': {\n",
    "\t\t\t'name': 'Egyptian General Authority of Survey',\n",
    "\t\t\t'params': { 'fajr': 19.5, 'isha': 17.5 } },\n",
    "\t\t'Makkah': {\n",
    "\t\t\t'name': 'Umm Al-Qura University, Makkah',\n",
    "\t\t\t'params': { 'fajr': 18.5, 'isha': '90 min' } },  # fajr was 19 degrees before 1430 hijri\n",
    "\t\t'Karachi': {\n",
    "\t\t\t'name': 'University of Islamic Sciences, Karachi',\n",
    "\t\t\t'params': { 'fajr': 18, 'isha': 18 } },\n",
    "\t\t'Tehran': {\n",
    "\t\t\t'name': 'Institute of Geophysics, University of Tehran',\n",
    "\t\t\t'params': { 'fajr': 17.7, 'isha': 14, 'maghrib': 4.5, 'midnight': 'Jafari' } },  # isha is not explicitly specified in this method\n",
    "\t\t'Jafari': {\n",
    "\t\t\t'name': 'Shia Ithna-Ashari, Leva Institute, Qum',\n",
    "\t\t\t'params': { 'fajr': 16, 'isha': 14, 'maghrib': 4, 'midnight': 'Jafari' } }\n",
    "\t}\n"
   ]
  },
  {
   "cell_type": "code",
   "execution_count": 11,
   "id": "5e11fb57-73f9-44e1-9da8-9471cf5553b9",
   "metadata": {
    "tags": []
   },
   "outputs": [
    {
     "data": {
      "text/plain": [
       "{'fajr': 18, 'isha': 17}"
      ]
     },
     "execution_count": 11,
     "metadata": {},
     "output_type": "execute_result"
    }
   ],
   "source": [
    "methods['MWL']['params']"
   ]
  },
  {
   "cell_type": "code",
   "execution_count": null,
   "id": "37c1eb0c-f8b6-45a5-90cb-c89633159487",
   "metadata": {},
   "outputs": [],
   "source": []
  }
 ],
 "metadata": {
  "kernelspec": {
   "display_name": "Python 3 (ipykernel)",
   "language": "python",
   "name": "python3"
  },
  "language_info": {
   "codemirror_mode": {
    "name": "ipython",
    "version": 3
   },
   "file_extension": ".py",
   "mimetype": "text/x-python",
   "name": "python",
   "nbconvert_exporter": "python",
   "pygments_lexer": "ipython3",
   "version": "3.11.5"
  }
 },
 "nbformat": 4,
 "nbformat_minor": 5
}
