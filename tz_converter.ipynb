{
 "cells": [
  {
   "cell_type": "code",
   "execution_count": 1,
   "id": "2fdaf4ab-6af7-4814-9707-22b71d911aa1",
   "metadata": {
    "tags": []
   },
   "outputs": [
    {
     "name": "stdout",
     "output_type": "stream",
     "text": [
      "Timezone: America/Toronto\n",
      "UTC offset (hrs): -4.0\n"
     ]
    }
   ],
   "source": [
    "from timezonefinder import TimezoneFinder\n",
    "from datetime import datetime\n",
    "import pytz\n",
    "\n",
    "# Inputs\n",
    "lat = 45.4215\n",
    "lon = -75.6999\n",
    "date = datetime(2025, 8, 1)\n",
    "\n",
    "# Step 1: Find timezone name from coordinates\n",
    "tf = TimezoneFinder()\n",
    "timezone_str = tf.timezone_at(lat=lat, lng=lon)\n",
    "\n",
    "# Step 2: Get UTC offset on that date\n",
    "tz = pytz.timezone(timezone_str)\n",
    "localized_dt = tz.localize(date)\n",
    "utc_offset_hours = localized_dt.utcoffset().total_seconds() / 3600\n",
    "\n",
    "print(f\"Timezone: {timezone_str}\")\n",
    "print(f\"UTC offset (hrs): {utc_offset_hours}\")\n"
   ]
  },
  {
   "cell_type": "code",
   "execution_count": 11,
   "id": "34e80302-a8a8-4678-8c8a-e253b3340fa2",
   "metadata": {
    "tags": []
   },
   "outputs": [],
   "source": [
    "def get_tz_offset(date, coordinates):\n",
    "    #coordinates: [lat, long]    \n",
    "    tf = TimezoneFinder()\n",
    "    timezone_str = tf.timezone_at(coordinates[0], coordinates[1])\n",
    "    tz = pytz.timezone(timezone_str)\n",
    "    localized_dt = tz.localize(date)\n",
    "    utc_offset_hours = localized_dt.utcoffset().total_seconds() / 3600\n",
    "    return utc_offset_hours\n",
    "\n",
    "def find_tz_offset(date_year, date_month, date_day, calc_coordinates, origin_coordinates):\n",
    "    #calc_coordinates: [lat ,long]\n",
    "    #orig_coordinates: [lat ,long]\n",
    "    \n",
    "    date = datetime(date_year, date_month, date_day)\n",
    "\n",
    "    utc_offset_calc = get_tz_offset(data, calc_cooridnates)\n",
    "    utc_offset_origin = get_tz_offset(data, origin_cooridnates)\n",
    "    return (utc_offset_origin - utc_offset_cal)\n",
    "\n",
    "def time_correction(t_hr, t_min, t_s, correction_offset):\n",
    "    hr_correction = int(correction_offset)\n",
    "    min_correction = (correction_offset - int(correction_offset)) * 60\n",
    "    return t_hr - hr_correction, t_min - min_correction, t_s"
   ]
  },
  {
   "cell_type": "code",
   "execution_count": 10,
   "id": "b4db596d-abab-4cd5-b5f0-74b6b0ebf4b6",
   "metadata": {
    "tags": []
   },
   "outputs": [
    {
     "data": {
      "text/plain": [
       "-0.5"
      ]
     },
     "execution_count": 10,
     "metadata": {},
     "output_type": "execute_result"
    }
   ],
   "source": [
    "correction = -5.5\n",
    "correction - int(correction)"
   ]
  },
  {
   "cell_type": "code",
   "execution_count": 7,
   "id": "a05b5849-24b9-44fe-8e54-e8291565636e",
   "metadata": {
    "tags": []
   },
   "outputs": [
    {
     "data": {
      "text/plain": [
       "datetime.datetime(2025, 8, 1, 0, 0, tzinfo=<DstTzInfo 'America/Toronto' EDT-1 day, 20:00:00 DST>)"
      ]
     },
     "execution_count": 7,
     "metadata": {},
     "output_type": "execute_result"
    }
   ],
   "source": [
    "tz.localize(date)"
   ]
  },
  {
   "cell_type": "code",
   "execution_count": 3,
   "id": "cf77579b-6ce3-4f16-b708-c13b2179656d",
   "metadata": {
    "tags": []
   },
   "outputs": [
    {
     "data": {
      "text/plain": [
       "1753927927.2864242"
      ]
     },
     "execution_count": 3,
     "metadata": {},
     "output_type": "execute_result"
    }
   ],
   "source": [
    "time.time()"
   ]
  },
  {
   "cell_type": "code",
   "execution_count": 7,
   "id": "84a84a9f-54ca-45bb-abde-d93d756ed0dc",
   "metadata": {
    "tags": []
   },
   "outputs": [
    {
     "data": {
      "text/plain": [
       "'Wed Jul 30 22:12:38 2025'"
      ]
     },
     "execution_count": 7,
     "metadata": {},
     "output_type": "execute_result"
    }
   ],
   "source": [
    "time.ctime()"
   ]
  },
  {
   "cell_type": "code",
   "execution_count": null,
   "id": "b10ac2cf-b963-4aa8-9485-64c9b034c503",
   "metadata": {},
   "outputs": [],
   "source": []
  },
  {
   "cell_type": "code",
   "execution_count": 2,
   "id": "79ab28d5-6eae-4203-ab6f-3193918f035f",
   "metadata": {},
   "outputs": [
    {
     "data": {
      "text/plain": [
       "datetime.datetime(2025, 8, 1, 0, 0, tzinfo=<DstTzInfo 'America/Toronto' EDT-1 day, 20:00:00 DST>)"
      ]
     },
     "execution_count": 2,
     "metadata": {},
     "output_type": "execute_result"
    }
   ],
   "source": [
    "localized_dt"
   ]
  },
  {
   "cell_type": "code",
   "execution_count": 3,
   "id": "9e1f4f1d-fbb7-4bf8-8a62-0eb6c69071b1",
   "metadata": {
    "tags": []
   },
   "outputs": [
    {
     "ename": "UnknownTimeZoneError",
     "evalue": "'EDT'",
     "output_type": "error",
     "traceback": [
      "\u001b[0;31m---------------------------------------------------------------------------\u001b[0m",
      "\u001b[0;31mUnknownTimeZoneError\u001b[0m                      Traceback (most recent call last)",
      "Cell \u001b[0;32mIn[3], line 1\u001b[0m\n\u001b[0;32m----> 1\u001b[0m pytz\u001b[38;5;241m.\u001b[39mtimezone(\u001b[38;5;124m'\u001b[39m\u001b[38;5;124mEDT\u001b[39m\u001b[38;5;124m'\u001b[39m)\n",
      "File \u001b[0;32m~/anaconda3/lib/python3.11/site-packages/pytz/__init__.py:188\u001b[0m, in \u001b[0;36mtimezone\u001b[0;34m(zone)\u001b[0m\n\u001b[1;32m    186\u001b[0m             fp\u001b[38;5;241m.\u001b[39mclose()\n\u001b[1;32m    187\u001b[0m     \u001b[38;5;28;01melse\u001b[39;00m:\n\u001b[0;32m--> 188\u001b[0m         \u001b[38;5;28;01mraise\u001b[39;00m UnknownTimeZoneError(zone)\n\u001b[1;32m    190\u001b[0m \u001b[38;5;28;01mreturn\u001b[39;00m _tzinfo_cache[zone]\n",
      "\u001b[0;31mUnknownTimeZoneError\u001b[0m: 'EDT'"
     ]
    }
   ],
   "source": [
    "pytz.timezone('EDT')"
   ]
  },
  {
   "cell_type": "code",
   "execution_count": 6,
   "id": "e06bd3a0-7d1f-4db1-9a4f-8b9403c7aad1",
   "metadata": {
    "tags": []
   },
   "outputs": [
    {
     "name": "stdout",
     "output_type": "stream",
     "text": [
      "UTC offset (hrs): -4.0\n"
     ]
    }
   ],
   "source": [
    "pytz.timezone('US/Eastern')\n",
    "utc_offset_hours = localized_dt.utcoffset().total_seconds() / 3600\n",
    "\n",
    "print(f\"UTC offset (hrs): {utc_offset_hours}\")\n"
   ]
  },
  {
   "cell_type": "code",
   "execution_count": null,
   "id": "a220a2e2-479d-49da-96ae-8e430f7646f8",
   "metadata": {},
   "outputs": [],
   "source": []
  }
 ],
 "metadata": {
  "kernelspec": {
   "display_name": "Python 3 (ipykernel)",
   "language": "python",
   "name": "python3"
  },
  "language_info": {
   "codemirror_mode": {
    "name": "ipython",
    "version": 3
   },
   "file_extension": ".py",
   "mimetype": "text/x-python",
   "name": "python",
   "nbconvert_exporter": "python",
   "pygments_lexer": "ipython3",
   "version": "3.11.5"
  }
 },
 "nbformat": 4,
 "nbformat_minor": 5
}
