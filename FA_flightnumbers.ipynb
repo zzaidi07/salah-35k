{
 "cells": [
  {
   "cell_type": "code",
   "execution_count": 16,
   "id": "c933646a-a17e-461f-a6dd-9503da9a8fd4",
   "metadata": {
    "tags": []
   },
   "outputs": [
    {
     "name": "stdout",
     "output_type": "stream",
     "text": [
      "https://www.flightaware.com/live/flight/UAE225\n"
     ]
    }
   ],
   "source": [
    "from ddgs import DDGS\n",
    "\n",
    "def duckduckgo_first_link(query):\n",
    "    with DDGS() as ddgs:\n",
    "        results = ddgs.text(query, max_results=1)\n",
    "        for r in results:\n",
    "            return r['href']\n",
    "    return None\n",
    "\n",
    "print(duckduckgo_first_link(\"EK225 flightaware.com\"))"
   ]
  },
  {
   "cell_type": "code",
   "execution_count": 15,
   "id": "3d78f51f-cb40-488b-9d2a-6d9f1674219d",
   "metadata": {
    "tags": []
   },
   "outputs": [
    {
     "name": "stdout",
     "output_type": "stream",
     "text": [
      "https://www.flightaware.com/live/flight/UAE225\n"
     ]
    }
   ],
   "source": [
    "print(duckduckgo_first_link(\"EK225 flightaware.com\"))"
   ]
  },
  {
   "cell_type": "code",
   "execution_count": 17,
   "id": "b4d0a5b3-b199-4a01-962d-04a88769b866",
   "metadata": {},
   "outputs": [
    {
     "data": {
      "text/plain": [
       "'UAE225'"
      ]
     },
     "execution_count": 17,
     "metadata": {},
     "output_type": "execute_result"
    }
   ],
   "source": [
    "fa_string = duckduckgo_first_link(\"EK225 flightaware.com\")\n",
    "\n",
    "fa_string.split(\"/\")[-1]"
   ]
  },
  {
   "cell_type": "code",
   "execution_count": 52,
   "id": "319e7bd1-24da-465e-8df0-43f005b20f91",
   "metadata": {
    "tags": []
   },
   "outputs": [
    {
     "name": "stdout",
     "output_type": "stream",
     "text": [
      "https://www.flightstats.com/v2/flight-tracker/pk/798\n",
      "https://www.flightradar24.com/data/flights/pk798\n",
      "https://www.flightaware.com/live/flight/PIA798\n",
      "https://www.planemapper.com/flights/PK798\n",
      "https://www.flightradar24.com/data/flights/pk798/\n",
      "https://www.planemapper.com/?flight=PK798\n",
      "https://www.flightaware.com/live/flight/PK798\n",
      "https://www.accessify.com/f/ja.flightaware.com\n",
      "https://flightaware.com/live/flight/PIA798/history/20230312/1600Z/CYYZ/OPLA\n",
      "https://planefinder.net/data/flight/PK798\n",
      "https://www.flightaware.com/live/flight/PIA789\n",
      "https://flight-status.com/pk-798\n",
      "https://www.flight.info/PK798\n",
      "https://www.flightaware.com/live/flight/N523AS\n",
      "https://sg.trip.com/flights/status-pk798/\n",
      "https://aviability.com/en/flight/pk798-pakistan-international-airlines\n",
      "https://www.airnavradar.com/data/flights/PK798\n",
      "https://reaganairporthotel.com/en/hampton-inn-suites-arlington-crystal-city-dca/\n",
      "https://www.flightaware.com/live/flight/APBGZ\n",
      "https://www.flightradar24.com/data/aircraft/ap-bgy\n",
      "https://www.tourister.ru/tips/7835\n",
      "https://www.hilton.com/en/hotels/wasrrhx-hampton-suites-arlington-crystal-city-dca/\n",
      "https://nationallanding.org/go/hampton-inn\n",
      "https://hampton-inn-suites-reagan-national-airport.arlingtonvahotels.com/en/\n",
      "https://www.travelticker.com/hotels/hampton-inn-suites-reagan-national-airport-hotel-washington-d-c-dc-132049\n",
      "https://www.hospitalityonline.com/hilton-garden-inn-hampton-inn-reagan-airport\n",
      "https://www.airportshuttles.com/washington-dc-hampton-inn-hotel-shuttles.php\n",
      "https://hotelsneardcmetro.com/hotels-near-dca-airport-with-free-shuttle/\n",
      "https://www.tripadvisor.com/HotelsNear-g28970-qDCA-Washington_DC_District_of_Columbia.html\n",
      "https://www.hilton.com/en/locations/usa/district-of-columbia/washington/dca-ronald-reagan-washington-national-airport/hampton-by-hilton/\n",
      "https://twitter.com/hashtag/PIA798?src=hashtag_click\n",
      "https://www.toronto-pearson-airport.com/flight-status-departure-PK798\n",
      "https://www.flightpedia.org/flight-status/pk798.html\n",
      "https://aeroreisy.ru/pk-798/\n"
     ]
    }
   ],
   "source": [
    "query = \"PK798 flightaware.com\"\n",
    "with DDGS() as ddgs:\n",
    "        results = ddgs.text(query, max_results=100)\n",
    "        for r in results:\n",
    "            print(r['href'])\n",
    "   \n"
   ]
  },
  {
   "cell_type": "code",
   "execution_count": 58,
   "id": "55eb7eb9-1783-437d-8dba-4473aa80e8ef",
   "metadata": {
    "tags": []
   },
   "outputs": [],
   "source": [
    "test_str = \"https://www.flightaware.com/live/flight/PIA798\""
   ]
  },
  {
   "cell_type": "code",
   "execution_count": 21,
   "id": "c0387b5c-4c68-4f3d-807e-0b309b2a7401",
   "metadata": {
    "tags": []
   },
   "outputs": [
    {
     "ename": "AttributeError",
     "evalue": "'str' object has no attribute 'contains'",
     "output_type": "error",
     "traceback": [
      "\u001b[0;31m---------------------------------------------------------------------------\u001b[0m",
      "\u001b[0;31mAttributeError\u001b[0m                            Traceback (most recent call last)",
      "Cell \u001b[0;32mIn[21], line 1\u001b[0m\n\u001b[0;32m----> 1\u001b[0m test_str\u001b[38;5;241m.\u001b[39mcontains(\u001b[38;5;124m\"\u001b[39m\u001b[38;5;124mflightware.com\u001b[39m\u001b[38;5;124m\"\u001b[39m)\n",
      "\u001b[0;31mAttributeError\u001b[0m: 'str' object has no attribute 'contains'"
     ]
    }
   ],
   "source": [
    "test_str.contains(\"flightware.com\")"
   ]
  },
  {
   "cell_type": "code",
   "execution_count": 59,
   "id": "3eda1ab3-bc68-43d4-bffc-5d284247add5",
   "metadata": {
    "tags": []
   },
   "outputs": [
    {
     "ename": "TypeError",
     "evalue": "'in <string>' requires string as left operand, not list",
     "output_type": "error",
     "traceback": [
      "\u001b[0;31m---------------------------------------------------------------------------\u001b[0m",
      "\u001b[0;31mTypeError\u001b[0m                                 Traceback (most recent call last)",
      "Cell \u001b[0;32mIn[59], line 5\u001b[0m\n\u001b[1;32m      2\u001b[0m fa_string \u001b[38;5;241m=\u001b[39m \u001b[38;5;124m\"\u001b[39m\u001b[38;5;124mflightaware.com\u001b[39m\u001b[38;5;124m\"\u001b[39m\n\u001b[1;32m      3\u001b[0m numbers_flightnumber \u001b[38;5;241m=\u001b[39m re\u001b[38;5;241m.\u001b[39mfindall(\u001b[38;5;124mr\u001b[39m\u001b[38;5;124m'\u001b[39m\u001b[38;5;124m\\\u001b[39m\u001b[38;5;124md+\u001b[39m\u001b[38;5;124m'\u001b[39m, flightnumber)\n\u001b[0;32m----> 5\u001b[0m \u001b[38;5;28;01mif\u001b[39;00m fa_string \u001b[38;5;129;01min\u001b[39;00m test_str \u001b[38;5;129;01mand\u001b[39;00m numbers_flightnumber \u001b[38;5;129;01min\u001b[39;00m test_str:\n\u001b[1;32m      6\u001b[0m     \u001b[38;5;28mprint\u001b[39m(\u001b[38;5;124m\"\u001b[39m\u001b[38;5;124myessss\u001b[39m\u001b[38;5;124m\"\u001b[39m)\n",
      "\u001b[0;31mTypeError\u001b[0m: 'in <string>' requires string as left operand, not list"
     ]
    }
   ],
   "source": [
    "flightnumber = \"PK798\"\n",
    "fa_string = \"flightaware.com\"\n",
    "numbers_flightnumber = re.findall(r'\\d+', flightnumber)\n",
    "\n",
    "if fa_string in test_str and numbers_flightnumber in test_str:\n",
    "    print(\"yessss\")"
   ]
  },
  {
   "cell_type": "code",
   "execution_count": 64,
   "id": "a14359b8-83ce-4d00-a640-b3b2c48b97ad",
   "metadata": {
    "tags": []
   },
   "outputs": [
    {
     "data": {
      "text/plain": [
       "'798'"
      ]
     },
     "execution_count": 64,
     "metadata": {},
     "output_type": "execute_result"
    }
   ],
   "source": [
    "numbers_flightnumber[0]"
   ]
  },
  {
   "cell_type": "code",
   "execution_count": 68,
   "id": "7817a261-a331-4264-89be-d55858322eea",
   "metadata": {
    "tags": []
   },
   "outputs": [
    {
     "name": "stdout",
     "output_type": "stream",
     "text": [
      "https://www.flightstats.com/v2/flight-tracker/pk/798\n",
      "https://www.flightaware.com/live/flight/PIA798\n",
      "vvvvv\n",
      "https://www.flightaware.com/live/flight/PIA798\n",
      "^^^^\n"
     ]
    }
   ],
   "source": [
    "import re\n",
    "flightnumber = \"PK798\"\n",
    "\n",
    "\n",
    "fa_string = \"flightaware.com\"\n",
    "numbers_flightnumber = re.findall(r'\\d+', flightnumber)[0]\n",
    "\n",
    "query = flightnumber + \" flightaware.com\"\n",
    "with DDGS() as ddgs:\n",
    "        results = ddgs.text(query, max_results=100)\n",
    "        for r in results:\n",
    "            hlink = r['href']\n",
    "            print(hlink)\n",
    "            if (fa_string in hlink) and (numbers_flightnumber in hlink):\n",
    "                print('vvvvv')\n",
    "                print(hlink)\n",
    "                print('^^^^')\n",
    "                break\n",
    "   "
   ]
  },
  {
   "cell_type": "code",
   "execution_count": 47,
   "id": "4dc77fa6-2933-46b7-8eee-d01b72b4dd39",
   "metadata": {
    "tags": []
   },
   "outputs": [
    {
     "name": "stdout",
     "output_type": "stream",
     "text": [
      "https://fr-ca.facebook.com/login/\n",
      "https://l.facebook.com/help/android-app/188157731232424/\n",
      "https://www.facebook.com/\n",
      "https://www.facebook.com/r.php/\n",
      "https://www.facebook.com/�%\n",
      "https://apps.facebook.com/help/android-app/185285184853471/\n",
      "https://upload.facebook.com/help/login/\n",
      "https://www.facebook.com/login.php/\n",
      "https://apps.facebook.com/help/292105707596942/\n",
      "https://www.facebook.com/𝑪𝒐𝒎𝒑𝒂𝒏𝒚-�%\n"
     ]
    }
   ],
   "source": [
    "for r in results:\n",
    "    print(r['href'])"
   ]
  },
  {
   "cell_type": "code",
   "execution_count": 57,
   "id": "f0e9d886-ce52-40da-b1e7-9ded0bb170bf",
   "metadata": {
    "tags": []
   },
   "outputs": [],
   "source": [
    "if 'asdas' in hlink:\n",
    "    print('tst')"
   ]
  },
  {
   "cell_type": "code",
   "execution_count": null,
   "id": "e65758a3-a6c6-47e8-a336-4cec073181a1",
   "metadata": {},
   "outputs": [],
   "source": []
  }
 ],
 "metadata": {
  "kernelspec": {
   "display_name": "Python 3 (ipykernel)",
   "language": "python",
   "name": "python3"
  },
  "language_info": {
   "codemirror_mode": {
    "name": "ipython",
    "version": 3
   },
   "file_extension": ".py",
   "mimetype": "text/x-python",
   "name": "python",
   "nbconvert_exporter": "python",
   "pygments_lexer": "ipython3",
   "version": "3.11.5"
  }
 },
 "nbformat": 4,
 "nbformat_minor": 5
}
