{
 "cells": [
  {
   "cell_type": "code",
   "execution_count": 2,
   "id": "cfea79ab-ef63-4d55-947e-73c961eb6652",
   "metadata": {
    "tags": []
   },
   "outputs": [],
   "source": [
    "import numpy as np\n",
    "import math\n",
    "import pandas as pd\n",
    "import matplotlib.pyplot as plt\n",
    "from PrayTimes import prayTimes\n",
    "import requests\n",
    "from bs4 import BeautifulSoup"
   ]
  },
  {
   "cell_type": "code",
   "execution_count": 154,
   "id": "a939a313-2a34-4db9-a401-d18f03260c7f",
   "metadata": {
    "tags": []
   },
   "outputs": [],
   "source": [
    "def get_flight_history(flight_number):\n",
    "    url = 'https://www.flightaware.com/live/flight/' + flight_number + '/history'\n",
    "    hist_link = []\n",
    "    # Define headers to mimic a browser request\n",
    "    headers = {\n",
    "        'User-Agent': 'Mozilla/5.0 (Windows NT 10.0; Win64; x64) AppleWebKit/537.36 (KHTML, like Gecko) Chrome/91.0.4472.164 Safari/537.36',\n",
    "        'Accept': 'text/html,application/xhtml+xml,application/xml;q=0.9,*/*;q=0.8',\n",
    "        'Accept-Language': 'en-US,en;q=0.5',\n",
    "        'Accept-Encoding': 'gzip, deflate, br',\n",
    "        'DNT': '1',\n",
    "        'Connection': 'keep-alive',\n",
    "        'Upgrade-Insecure-Requests': '1'\n",
    "    }\n",
    "\n",
    "    try:\n",
    "        response = requests.get(url, headers=headers)\n",
    "        response.raise_for_status()  # Raise an exception for HTTP errors\n",
    "        soup = BeautifulSoup(response.text, 'html.parser')\n",
    "        # Find the link with the specific pattern\n",
    "        for link in soup.find_all('a'):\n",
    "            href = link.get('href')\n",
    "            if href and '/history/2' in href:\n",
    "                hist_link = hist_link + ['https://www.flightaware.com' + href]\n",
    "                print('https://www.flightaware.com' + href)\n",
    "\n",
    "\n",
    "    except requests.exceptions.RequestException as e:\n",
    "        print(f\"Request error: {e}\")\n",
    "    #print(hist_link)\n",
    "    print(hist_link[0])\n",
    "\n",
    "\n",
    "    headers = {\n",
    "        \"User-Agent\": \"Mozilla/5.0 (Windows NT 10.0; Win64; x64) \" \\\n",
    "                      \"AppleWebKit/537.36 (KHTML, like Gecko) \" \\\n",
    "                      \"Chrome/114.0.0.0 Safari/537.36\"\n",
    "        }\n",
    "    url = hist_link[-1]+\"/tracklog\"\n",
    "    print(url)\n",
    "    resp = requests.get(url, headers = headers)\n",
    "    resp.raise_for_status()  # Raise error on bad response\n",
    "\n",
    "    soup = BeautifulSoup(resp.text, \"html.parser\")\n",
    "    table = soup.find_all('table')\n",
    "    df = pd.read_html(str(table))\n",
    "    return df"
   ]
  },
  {
   "cell_type": "code",
   "execution_count": 155,
   "id": "634170c6-e85b-4d7b-8347-fca11c493775",
   "metadata": {
    "tags": []
   },
   "outputs": [],
   "source": [
    "def Parse24HrTime(time_24hr):\n",
    "    if time_24hr[0] == '-':\n",
    "        hr = 0\n",
    "        mins = 0\n",
    "    else:  \n",
    "        hr = int(time_24hr.split(\":\")[0])\n",
    "        mins = int(time_24hr.split(\":\")[1])\n",
    "\n",
    "    \n",
    "    return(hr, mins)\n",
    "\n",
    "def Extract24HrTime(time_12hr):\n",
    "    exc_day = time_12hr[-2:]\n",
    "    exc_time = time_12hr[:-3]\n",
    "    hr = int(exc_time.split(\":\")[0])\n",
    "    mins = int(exc_time.split(\":\")[1])\n",
    "    \n",
    "    if exc_day == 'PM':\n",
    "        if hr != 12:\n",
    "            hr += 12\n",
    "    else:\n",
    "        if hr == 12:\n",
    "            hr = 0\n",
    "    \n",
    "    return(hr, mins)\n",
    "\n",
    "def ConvertTo12Hr(time_24):\n",
    "    mins = (time_24 - int(time_24))*60\n",
    "    hrs = int(time_24)\n",
    "    if hrs > 12:\n",
    "        day = 'PM'\n",
    "        hrs -= 12\n",
    "    elif hrs == 12:\n",
    "        day = 'PM'\n",
    "        hrs = hrs\n",
    "    elif hrs == 0:\n",
    "        day = 'AM'\n",
    "        hrs += 12\n",
    "    else:\n",
    "        day = 'AM'\n",
    "    return(hrs, mins, day)"
   ]
  },
  {
   "cell_type": "code",
   "execution_count": 156,
   "id": "83e5529c-3ac7-4075-9da1-b47bf01de788",
   "metadata": {
    "tags": []
   },
   "outputs": [
    {
     "name": "stdout",
     "output_type": "stream",
     "text": [
      "https://www.flightaware.com/live/flight/PIA798/history/20250719/0110Z/CYYZ/OPLA\n",
      "https://www.flightaware.com/live/flight/PIA798/history/20250712/0310Z/CYYZ/OPLA\n",
      "https://www.flightaware.com/live/flight/PIA798/history/20250719/0110Z/CYYZ/OPLA\n",
      "https://www.flightaware.com/live/flight/PIA798/history/20250712/0310Z/CYYZ/OPLA/tracklog\n"
     ]
    }
   ],
   "source": [
    "pd_flighthistory = get_flight_history('PIA798')"
   ]
  },
  {
   "cell_type": "code",
   "execution_count": 160,
   "id": "b0e78e7d-6377-40a1-a18b-51ece3bfb45a",
   "metadata": {
    "tags": []
   },
   "outputs": [],
   "source": [
    "df = pd_flighthistory[0]"
   ]
  },
  {
   "cell_type": "code",
   "execution_count": 13,
   "id": "6fefaa9b-b4a8-4697-8ac2-247a69d324f2",
   "metadata": {
    "tags": []
   },
   "outputs": [],
   "source": [
    "prayTimes.setMethod('Jafari') #paramaterS: MWL, ISNA, Egypt, Makkah, Karachi, Tehran, Jafari\n"
   ]
  },
  {
   "cell_type": "code",
   "execution_count": 149,
   "id": "fb76796d-d71f-4f0e-8bb0-8095a0562179",
   "metadata": {
    "tags": []
   },
   "outputs": [
    {
     "data": {
      "text/plain": [
       "0"
      ]
     },
     "execution_count": 149,
     "metadata": {},
     "output_type": "execute_result"
    }
   ],
   "source": [
    "df.index[0]"
   ]
  },
  {
   "cell_type": "code",
   "execution_count": 161,
   "id": "b60c8a32-5381-411a-b2e5-83e5f75cb51e",
   "metadata": {
    "tags": []
   },
   "outputs": [],
   "source": [
    "# cleanup:\n",
    "df = df[~df['LatitudeLat'].str.contains('FlightAware')]\n",
    "df = df[~df['LatitudeLat'].str.contains('Gander')]\n",
    "df = df[~df['LatitudeLat'].str.contains('Surface')]\n",
    "df = df[~df['LatitudeLat'].str.contains('Estimated')]\n",
    "df = df.iloc[:-1]\n",
    "\n",
    "# Todo: stop before the last row, or remove the last row.\n"
   ]
  },
  {
   "cell_type": "code",
   "execution_count": 162,
   "id": "840eb178-da6c-42a8-94fb-1ece01e06269",
   "metadata": {
    "tags": []
   },
   "outputs": [
    {
     "ename": "ValueError",
     "evalue": "could not convert string to float: 'Fri 11'",
     "output_type": "error",
     "traceback": [
      "\u001b[0;31m---------------------------------------------------------------------------\u001b[0m",
      "\u001b[0;31mValueError\u001b[0m                                Traceback (most recent call last)",
      "Cell \u001b[0;32mIn[162], line 25\u001b[0m\n\u001b[1;32m     23\u001b[0m \u001b[38;5;28;01mfor\u001b[39;00m ind_rec, row \u001b[38;5;129;01min\u001b[39;00m df\u001b[38;5;241m.\u001b[39miterrows():\n\u001b[1;32m     24\u001b[0m     height \u001b[38;5;241m=\u001b[39m \u001b[38;5;241m35000\u001b[39m\n\u001b[0;32m---> 25\u001b[0m     loc_latitude \u001b[38;5;241m=\u001b[39m \u001b[38;5;28mfloat\u001b[39m(df\u001b[38;5;241m.\u001b[39mLatitudeLat[ind_rec][:\u001b[38;5;241m6\u001b[39m])\n\u001b[1;32m     26\u001b[0m     loc_longitude \u001b[38;5;241m=\u001b[39m \u001b[38;5;28mfloat\u001b[39m(df\u001b[38;5;241m.\u001b[39mLongitudeLon[ind_rec][:\u001b[38;5;241m6\u001b[39m])\n\u001b[1;32m     27\u001b[0m     coordinates \u001b[38;5;241m=\u001b[39m (loc_latitude, loc_longitude, height)\n",
      "\u001b[0;31mValueError\u001b[0m: could not convert string to float: 'Fri 11'"
     ]
    }
   ],
   "source": [
    "#df = pd_flighthistory[0]\n",
    "date = (2025, 7, 11)\n",
    "#CalculationMethod.\n",
    "format = \"%I:%M %p\"\n",
    "\n",
    "\n",
    "\n",
    "NumRecords = len(df)\n",
    "#print(NumRecords)\n",
    "longitudes = np.zeros(NumRecords)\n",
    "latitudes = np.zeros(NumRecords)\n",
    "fajr_times = np.zeros(NumRecords)\n",
    "dhuhr_times = np.zeros(NumRecords)\n",
    "maghrib_times = np.zeros(NumRecords)\n",
    "sunrise_times = np.zeros(NumRecords)\n",
    "\n",
    "flight_times = np.zeros(NumRecords)\n",
    "end_row = df['LatitudeLat'].str.contains('Surface').count()\n",
    "\n",
    "\n",
    "ind = 0\n",
    "#for ind_rec in np.arange(1 , NumRecords):\n",
    "for ind_rec, row in df.iterrows():\n",
    "    height = 35000\n",
    "    loc_latitude = float(df.LatitudeLat[ind_rec][:6])\n",
    "    loc_longitude = float(df.LongitudeLon[ind_rec][:6])\n",
    "    coordinates = (loc_latitude, loc_longitude, height)\n",
    "    # date = df.date\n",
    "    #prayer_times = PrayerTimes(coordinates, date, calculation_parameters=params)\n",
    "    prayer_times = prayTimes.getTimes(date, coordinates, -4)#calculation_parameters=params)\n",
    "\n",
    "    #prayer_times = PrayerTimes(coordinates, df.date[ind_rec], calculation_parameters=params)\n",
    "\n",
    "    dhuhr_time = prayer_times['dhuhr']#.astimezone(tz).strftime(format)\n",
    "    maghrib_time = prayer_times['maghrib']#.astimezone(tz).strftime(format)\n",
    "    fajr_time = prayer_times['fajr']#.astimezone(tz).strftime(format)\n",
    "    sunrise_time = prayer_times['sunrise']#.astimezone(tz).strftime(format)\n",
    "    \n",
    "    ext_hr_flight, ext_mins_flight = Extract24HrTime(df['Time (EDT)EDT'][ind_rec][4:])\n",
    "    ext_hr_dhuhr, ext_mins_dhuhr = Parse24HrTime(dhuhr_time)\n",
    "    ext_hr_fajr, ext_mins_fajr = Parse24HrTime(fajr_time)\n",
    "    ext_hr_sunrise, ext_mins_sunrise = Parse24HrTime(sunrise_time)\n",
    "\n",
    "    ext_hr_maghrib, ext_mins_maghrib = Parse24HrTime(maghrib_time)\n",
    "\n",
    "    \n",
    "    flight_times[ind] = ext_hr_flight + ext_mins_flight/60\n",
    "    fajr_times[ind] = ext_hr_fajr + ext_mins_fajr/60\n",
    "    sunrise_times[ind] = ext_hr_sunrise + ext_mins_sunrise/60\n",
    "\n",
    "    dhuhr_times[ind] = ext_hr_dhuhr + ext_mins_dhuhr/60\n",
    "    maghrib_times[ind] = ext_hr_maghrib + ext_mins_maghrib/60\n",
    "    \n",
    "    longitudes[ind] = loc_longitude\n",
    "    latitudes[ind] = loc_latitude\n",
    "    ind +=1\n",
    "    \n"
   ]
  },
  {
   "cell_type": "code",
   "execution_count": 159,
   "id": "9b74b95b-dc03-4116-aae7-27759f5e0c73",
   "metadata": {
    "tags": []
   },
   "outputs": [
    {
     "data": {
      "text/plain": [
       "[<matplotlib.lines.Line2D at 0x112d14e10>]"
      ]
     },
     "execution_count": 159,
     "metadata": {},
     "output_type": "execute_result"
    },
    {
     "data": {
      "image/png": "[encoded data removed]",
      "text/plain": [
       "<Figure size 640x480 with 2 Axes>"
      ]
     },
     "metadata": {},
     "output_type": "display_data"
    }
   ],
   "source": [
    "fig, ax = plt.subplots(2)\n",
    "ax[0].plot(longitudes)\n",
    "ax[1].plot(latitudes)\n"
   ]
  },
  {
   "cell_type": "code",
   "execution_count": 145,
   "id": "f308d57c-c6a0-49a9-969b-8348985ac733",
   "metadata": {
    "tags": []
   },
   "outputs": [
    {
     "name": "stdout",
     "output_type": "stream",
     "text": [
      "Dhuhr Time is at (5, 23.000000000000025, 'AM')\n",
      "Maghrib Time is at (1, 11.0, 'AM')\n",
      "Fajr Time is at (1, 11.0, 'AM')\n",
      "Sunrise Time is at (1, 11.0, 'AM')\n"
     ]
    },
    {
     "data": {
      "text/plain": [
       "<matplotlib.legend.Legend at 0x11564dd50>"
      ]
     },
     "execution_count": 145,
     "metadata": {},
     "output_type": "execute_result"
    },
    {
     "data": {
      "image/png": "[encoded data removed]",
      "text/plain": [
       "<Figure size 1000x1000 with 4 Axes>"
      ]
     },
     "metadata": {},
     "output_type": "display_data"
    },
    {
     "data": {
      "image/png": "[encoded data removed]",
      "text/plain": [
       "<Figure size 640x480 with 1 Axes>"
      ]
     },
     "metadata": {},
     "output_type": "display_data"
    }
   ],
   "source": [
    "maghrib_times = maghrib_times #+ 20/60 # Shia correction\n",
    "diff_dhuhr = np.abs(dhuhr_times - flight_times)\n",
    "diff_maghrib = np.abs(maghrib_times - flight_times)\n",
    "diff_fajr = np.abs(fajr_times - flight_times)\n",
    "diff_sunrise = np.abs(sunrise_times - flight_times)\n",
    "\n",
    "fig, ax = plt.subplots(4, figsize= (10,10) )\n",
    "ax[0].plot(flight_times)\n",
    "ax[1].plot(flight_times)\n",
    "ax[2].plot(flight_times)\n",
    "ax[3].plot(flight_times)\n",
    "\n",
    "\n",
    "ax[0].plot(dhuhr_times)\n",
    "#ax[0].plot(diff_dhuhr)\n",
    "ax[1].plot(maghrib_times)\n",
    "#ax[1].plot(diff_maghrib)\n",
    "ax[2].plot(fajr_times)\n",
    "#ax[2].plot(diff_fajr)\n",
    "ax[3].plot(sunrise_times)\n",
    "\n",
    "ax[0].legend(['flight', 'dhuhr'])#, 'diff_dhuhr'])\n",
    "ax[1].legend(['flight', 'maghrib'])#, 'diff_maghrib'])\n",
    "ax[2].legend(['flight', 'fajr'])#, 'diff_fajr'])\n",
    "ax[3].legend(['flight', 'sunrise'])\n",
    "ax[0].vlines(np.argmin(diff_dhuhr), 0 ,25, color = 'Red')\n",
    "ax[1].vlines(np.argmin(diff_maghrib), 0 ,25, color = 'Red')\n",
    "ax[2].vlines(np.argmin(diff_fajr), 0 ,25, color = 'Red')\n",
    "ax[3].vlines(np.argmin(diff_sunrise[:-20]), 0 ,25, color = 'Red')\n",
    "            \n",
    "print(f'Dhuhr Time is at {ConvertTo12Hr(flight_times[np.argmin(diff_dhuhr)])}')\n",
    "print(f'Maghrib Time is at {ConvertTo12Hr(flight_times[np.argmin(diff_maghrib)])}')\n",
    "print(f'Fajr Time is at {ConvertTo12Hr(flight_times[np.argmin(diff_fajr)])}')\n",
    "print(f'Sunrise Time is at {ConvertTo12Hr(flight_times[np.argmin(diff_sunrise[:-20])])}')\n",
    "\n",
    "fig, ax = plt.subplots()\n",
    "ax.plot(dhuhr_times)\n",
    "ax.plot(maghrib_times)\n",
    "ax.plot(fajr_times)\n",
    "ax.plot(sunrise_times)\n",
    "ax.legend(['dhuhr', 'maghrib', 'fajr', 'sunrise'])"
   ]
  },
  {
   "cell_type": "code",
   "execution_count": 60,
   "id": "f8df1246-c52d-40ee-a586-d5a5d9d4f581",
   "metadata": {
    "tags": []
   },
   "outputs": [
    {
     "data": {
      "text/plain": [
       "578"
      ]
     },
     "execution_count": 60,
     "metadata": {},
     "output_type": "execute_result"
    }
   ],
   "source": [
    "len(df)"
   ]
  },
  {
   "cell_type": "code",
   "execution_count": 69,
   "id": "b2452335-8575-4f9f-aa03-de9901ddfb5a",
   "metadata": {
    "tags": []
   },
   "outputs": [
    {
     "data": {
      "text/plain": [
       "array([1, 2])"
      ]
     },
     "execution_count": 69,
     "metadata": {},
     "output_type": "execute_result"
    }
   ],
   "source": [
    "np.arange(1,3)"
   ]
  },
  {
   "cell_type": "code",
   "execution_count": 73,
   "id": "8aecee18-25d5-42e2-b234-af92383b3f57",
   "metadata": {
    "tags": []
   },
   "outputs": [],
   "source": [
    "df.to_csv('test.csv')"
   ]
  },
  {
   "cell_type": "code",
   "execution_count": 30,
   "id": "21a70e48-f944-4733-83e7-bd2d10cf99e6",
   "metadata": {
    "tags": []
   },
   "outputs": [
    {
     "data": {
      "text/html": [
       "<div>\n",
       "<style scoped>\n",
       "    .dataframe tbody tr th:only-of-type {\n",
       "        vertical-align: middle;\n",
       "    }\n",
       "\n",
       "    .dataframe tbody tr th {\n",
       "        vertical-align: top;\n",
       "    }\n",
       "\n",
       "    .dataframe thead th {\n",
       "        text-align: right;\n",
       "    }\n",
       "</style>\n",
       "<table border=\"1\" class=\"dataframe\">\n",
       "  <thead>\n",
       "    <tr style=\"text-align: right;\">\n",
       "      <th></th>\n",
       "      <th>0</th>\n",
       "    </tr>\n",
       "  </thead>\n",
       "  <tbody>\n",
       "    <tr>\n",
       "      <th>0</th>\n",
       "      <td>Your browser is unsupported. upgrade your browser</td>\n",
       "    </tr>\n",
       "  </tbody>\n",
       "</table>\n",
       "</div>"
      ],
      "text/plain": [
       "                                                   0\n",
       "0  Your browser is unsupported. upgrade your browser"
      ]
     },
     "execution_count": 30,
     "metadata": {},
     "output_type": "execute_result"
    }
   ],
   "source": [
    "pd_flighthistory[1]"
   ]
  },
  {
   "cell_type": "markdown",
   "id": "0799e4c7-e251-4b81-870e-44aff43460a2",
   "metadata": {},
   "source": [
    "# Debug"
   ]
  },
  {
   "cell_type": "code",
   "execution_count": 68,
   "id": "4d3e417d-a777-463b-9654-e9887482eb5e",
   "metadata": {
    "tags": []
   },
   "outputs": [
    {
     "name": "stdout",
     "output_type": "stream",
     "text": [
      "67.633367.63\n",
      "-51.0833-51.08\n",
      "('67.633367.63', '-51.0833-51.08', 35000)\n"
     ]
    }
   ],
   "source": [
    "ind_rec = 3\n",
    "height = 35000\n",
    "print(df.LatitudeLat[ind_rec])\n",
    "print(df.LongitudeLon[ind_rec])\n",
    "coordinates = (df.LatitudeLat[ind_rec], df.LongitudeLon[ind_rec], height)\n",
    "print(coordinates)\n",
    "\n"
   ]
  },
  {
   "cell_type": "code",
   "execution_count": 75,
   "id": "cc3f3a43-a104-4e1a-845b-bcefbb7ee4bf",
   "metadata": {
    "tags": []
   },
   "outputs": [
    {
     "data": {
      "text/plain": [
       "-71.34"
      ]
     },
     "execution_count": 75,
     "metadata": {},
     "output_type": "execute_result"
    }
   ],
   "source": [
    "# Need to clean df\n",
    "int(-71.34*100)/100"
   ]
  },
  {
   "cell_type": "code",
   "execution_count": 92,
   "id": "c616305a-386e-4897-9172-a3730d3f239e",
   "metadata": {
    "tags": []
   },
   "outputs": [
    {
     "ename": "KeyError",
     "evalue": "6",
     "output_type": "error",
     "traceback": [
      "\u001b[0;31m---------------------------------------------------------------------------\u001b[0m",
      "\u001b[0;31mKeyError\u001b[0m                                  Traceback (most recent call last)",
      "File \u001b[0;32m~/anaconda3/lib/python3.11/site-packages/pandas/core/indexes/base.py:3653\u001b[0m, in \u001b[0;36mIndex.get_loc\u001b[0;34m(self, key)\u001b[0m\n\u001b[1;32m   3652\u001b[0m \u001b[38;5;28;01mtry\u001b[39;00m:\n\u001b[0;32m-> 3653\u001b[0m     \u001b[38;5;28;01mreturn\u001b[39;00m \u001b[38;5;28mself\u001b[39m\u001b[38;5;241m.\u001b[39m_engine\u001b[38;5;241m.\u001b[39mget_loc(casted_key)\n\u001b[1;32m   3654\u001b[0m \u001b[38;5;28;01mexcept\u001b[39;00m \u001b[38;5;167;01mKeyError\u001b[39;00m \u001b[38;5;28;01mas\u001b[39;00m err:\n",
      "File \u001b[0;32m~/anaconda3/lib/python3.11/site-packages/pandas/_libs/index.pyx:147\u001b[0m, in \u001b[0;36mpandas._libs.index.IndexEngine.get_loc\u001b[0;34m()\u001b[0m\n",
      "File \u001b[0;32m~/anaconda3/lib/python3.11/site-packages/pandas/_libs/index.pyx:176\u001b[0m, in \u001b[0;36mpandas._libs.index.IndexEngine.get_loc\u001b[0;34m()\u001b[0m\n",
      "File \u001b[0;32mpandas/_libs/hashtable_class_helper.pxi:2606\u001b[0m, in \u001b[0;36mpandas._libs.hashtable.Int64HashTable.get_item\u001b[0;34m()\u001b[0m\n",
      "File \u001b[0;32mpandas/_libs/hashtable_class_helper.pxi:2630\u001b[0m, in \u001b[0;36mpandas._libs.hashtable.Int64HashTable.get_item\u001b[0;34m()\u001b[0m\n",
      "\u001b[0;31mKeyError\u001b[0m: 6",
      "\nThe above exception was the direct cause of the following exception:\n",
      "\u001b[0;31mKeyError\u001b[0m                                  Traceback (most recent call last)",
      "Cell \u001b[0;32mIn[92], line 1\u001b[0m\n\u001b[0;32m----> 1\u001b[0m \u001b[38;5;28mint\u001b[39m(df\u001b[38;5;241m.\u001b[39mLongitudeLon[ind_rec][:\u001b[38;5;241m6\u001b[39m]\u001b[38;5;241m*\u001b[39m\u001b[38;5;241m100\u001b[39m)\u001b[38;5;241m/\u001b[39m\u001b[38;5;241m100\u001b[39m\n",
      "File \u001b[0;32m~/anaconda3/lib/python3.11/site-packages/pandas/core/series.py:1007\u001b[0m, in \u001b[0;36mSeries.__getitem__\u001b[0;34m(self, key)\u001b[0m\n\u001b[1;32m   1004\u001b[0m     \u001b[38;5;28;01mreturn\u001b[39;00m \u001b[38;5;28mself\u001b[39m\u001b[38;5;241m.\u001b[39m_values[key]\n\u001b[1;32m   1006\u001b[0m \u001b[38;5;28;01melif\u001b[39;00m key_is_scalar:\n\u001b[0;32m-> 1007\u001b[0m     \u001b[38;5;28;01mreturn\u001b[39;00m \u001b[38;5;28mself\u001b[39m\u001b[38;5;241m.\u001b[39m_get_value(key)\n\u001b[1;32m   1009\u001b[0m \u001b[38;5;28;01mif\u001b[39;00m is_hashable(key):\n\u001b[1;32m   1010\u001b[0m     \u001b[38;5;66;03m# Otherwise index.get_value will raise InvalidIndexError\u001b[39;00m\n\u001b[1;32m   1011\u001b[0m     \u001b[38;5;28;01mtry\u001b[39;00m:\n\u001b[1;32m   1012\u001b[0m         \u001b[38;5;66;03m# For labels that don't resolve as scalars like tuples and frozensets\u001b[39;00m\n",
      "File \u001b[0;32m~/anaconda3/lib/python3.11/site-packages/pandas/core/series.py:1116\u001b[0m, in \u001b[0;36mSeries._get_value\u001b[0;34m(self, label, takeable)\u001b[0m\n\u001b[1;32m   1113\u001b[0m     \u001b[38;5;28;01mreturn\u001b[39;00m \u001b[38;5;28mself\u001b[39m\u001b[38;5;241m.\u001b[39m_values[label]\n\u001b[1;32m   1115\u001b[0m \u001b[38;5;66;03m# Similar to Index.get_value, but we do not fall back to positional\u001b[39;00m\n\u001b[0;32m-> 1116\u001b[0m loc \u001b[38;5;241m=\u001b[39m \u001b[38;5;28mself\u001b[39m\u001b[38;5;241m.\u001b[39mindex\u001b[38;5;241m.\u001b[39mget_loc(label)\n\u001b[1;32m   1118\u001b[0m \u001b[38;5;28;01mif\u001b[39;00m is_integer(loc):\n\u001b[1;32m   1119\u001b[0m     \u001b[38;5;28;01mreturn\u001b[39;00m \u001b[38;5;28mself\u001b[39m\u001b[38;5;241m.\u001b[39m_values[loc]\n",
      "File \u001b[0;32m~/anaconda3/lib/python3.11/site-packages/pandas/core/indexes/base.py:3655\u001b[0m, in \u001b[0;36mIndex.get_loc\u001b[0;34m(self, key)\u001b[0m\n\u001b[1;32m   3653\u001b[0m     \u001b[38;5;28;01mreturn\u001b[39;00m \u001b[38;5;28mself\u001b[39m\u001b[38;5;241m.\u001b[39m_engine\u001b[38;5;241m.\u001b[39mget_loc(casted_key)\n\u001b[1;32m   3654\u001b[0m \u001b[38;5;28;01mexcept\u001b[39;00m \u001b[38;5;167;01mKeyError\u001b[39;00m \u001b[38;5;28;01mas\u001b[39;00m err:\n\u001b[0;32m-> 3655\u001b[0m     \u001b[38;5;28;01mraise\u001b[39;00m \u001b[38;5;167;01mKeyError\u001b[39;00m(key) \u001b[38;5;28;01mfrom\u001b[39;00m \u001b[38;5;21;01merr\u001b[39;00m\n\u001b[1;32m   3656\u001b[0m \u001b[38;5;28;01mexcept\u001b[39;00m \u001b[38;5;167;01mTypeError\u001b[39;00m:\n\u001b[1;32m   3657\u001b[0m     \u001b[38;5;66;03m# If we have a listlike key, _check_indexing_error will raise\u001b[39;00m\n\u001b[1;32m   3658\u001b[0m     \u001b[38;5;66;03m#  InvalidIndexError. Otherwise we fall through and re-raise\u001b[39;00m\n\u001b[1;32m   3659\u001b[0m     \u001b[38;5;66;03m#  the TypeError.\u001b[39;00m\n\u001b[1;32m   3660\u001b[0m     \u001b[38;5;28mself\u001b[39m\u001b[38;5;241m.\u001b[39m_check_indexing_error(key)\n",
      "\u001b[0;31mKeyError\u001b[0m: 6"
     ]
    }
   ],
   "source": [
    "int(df.LongitudeLon[ind_rec][:6]*100)/100"
   ]
  },
  {
   "cell_type": "code",
   "execution_count": 94,
   "id": "3c46c0f8-9511-4444-8681-65965c2f1b8b",
   "metadata": {
    "tags": []
   },
   "outputs": [
    {
     "data": {
      "text/plain": [
       "-50.566"
      ]
     },
     "execution_count": 94,
     "metadata": {},
     "output_type": "execute_result"
    }
   ],
   "source": [
    "ind_rec = 5\n",
    "float(df.LongitudeLon[ind_rec][:7])"
   ]
  },
  {
   "cell_type": "code",
   "execution_count": 97,
   "id": "665fba75-b99b-42f7-a0fa-20d9ae76f449",
   "metadata": {
    "tags": []
   },
   "outputs": [
    {
     "data": {
      "text/plain": [
       "'-50.2101-50.21'"
      ]
     },
     "execution_count": 97,
     "metadata": {},
     "output_type": "execute_result"
    }
   ],
   "source": [
    "df.LongitudeLon[7]"
   ]
  },
  {
   "cell_type": "code",
   "execution_count": 151,
   "id": "2103816e-aedc-4675-a7a9-5d76c6407007",
   "metadata": {
    "tags": []
   },
   "outputs": [],
   "source": [
    "df.to_csv('test.csv')"
   ]
  },
  {
   "cell_type": "code",
   "execution_count": 138,
   "id": "d990b0e7-96e3-4e9f-b61d-b7c36e89fa94",
   "metadata": {
    "tags": []
   },
   "outputs": [],
   "source": [
    "df = df[~df['LatitudeLat'].str.contains('FlightAware')]\n",
    "df = df[~df['LatitudeLat'].str.contains('Gander')]\n",
    "df = df[~df['LatitudeLat'].str.contains('Surface')]\n",
    "df = df[~df['LatitudeLat'].str.contains('Estimated')]\n",
    "\n"
   ]
  },
  {
   "cell_type": "code",
   "execution_count": 104,
   "id": "d5938e28-24db-4e55-a310-e51549a013e8",
   "metadata": {
    "tags": []
   },
   "outputs": [
    {
     "data": {
      "text/plain": [
       "578"
      ]
     },
     "execution_count": 104,
     "metadata": {},
     "output_type": "execute_result"
    }
   ],
   "source": []
  },
  {
   "cell_type": "code",
   "execution_count": 56,
   "id": "4c6d5945-9a50-46ee-af84-3b0cd55f611a",
   "metadata": {
    "tags": []
   },
   "outputs": [
    {
     "data": {
      "text/html": [
       "<div>\n",
       "<style scoped>\n",
       "    .dataframe tbody tr th:only-of-type {\n",
       "        vertical-align: middle;\n",
       "    }\n",
       "\n",
       "    .dataframe tbody tr th {\n",
       "        vertical-align: top;\n",
       "    }\n",
       "\n",
       "    .dataframe thead th {\n",
       "        text-align: right;\n",
       "    }\n",
       "</style>\n",
       "<table border=\"1\" class=\"dataframe\">\n",
       "  <thead>\n",
       "    <tr style=\"text-align: right;\">\n",
       "      <th></th>\n",
       "      <th>Time (EDT)EDT</th>\n",
       "      <th>LatitudeLat</th>\n",
       "      <th>LongitudeLon</th>\n",
       "      <th>CourseDir</th>\n",
       "      <th>kts</th>\n",
       "      <th>mph</th>\n",
       "      <th>feet</th>\n",
       "      <th>Rate</th>\n",
       "      <th>Reporting Facility</th>\n",
       "    </tr>\n",
       "  </thead>\n",
       "  <tbody>\n",
       "    <tr>\n",
       "      <th>1</th>\n",
       "      <td>Sat 01:11:46 AM01:11AM</td>\n",
       "      <td>67.433367.43</td>\n",
       "      <td>-51.6333-51.63</td>\n",
       "      <td>↗ 49°</td>\n",
       "      <td>490</td>\n",
       "      <td>564</td>\n",
       "      <td>3.300033e+09</td>\n",
       "      <td>NaN</td>\n",
       "      <td>Gander Center</td>\n",
       "    </tr>\n",
       "    <tr>\n",
       "      <th>2</th>\n",
       "      <td>Sat 01:12:46 AM01:12AM</td>\n",
       "      <td>67.533367.53</td>\n",
       "      <td>-51.3833-51.38</td>\n",
       "      <td>↗ 44°</td>\n",
       "      <td>490</td>\n",
       "      <td>564</td>\n",
       "      <td>3.300033e+09</td>\n",
       "      <td>NaN</td>\n",
       "      <td>Gander Center</td>\n",
       "    </tr>\n",
       "    <tr>\n",
       "      <th>3</th>\n",
       "      <td>Sat 01:13:46 AM01:13AM</td>\n",
       "      <td>67.633367.63</td>\n",
       "      <td>-51.0833-51.08</td>\n",
       "      <td>↗ 49°</td>\n",
       "      <td>490</td>\n",
       "      <td>564</td>\n",
       "      <td>3.300033e+09</td>\n",
       "      <td>NaN</td>\n",
       "      <td>Gander Center</td>\n",
       "    </tr>\n",
       "    <tr>\n",
       "      <th>4</th>\n",
       "      <td>Sat 01:14:46 AM01:14AM</td>\n",
       "      <td>67.716767.72</td>\n",
       "      <td>-50.8333-50.83</td>\n",
       "      <td>↗ 49°</td>\n",
       "      <td>490</td>\n",
       "      <td>564</td>\n",
       "      <td>3.300033e+09</td>\n",
       "      <td>NaN</td>\n",
       "      <td>Gander Center</td>\n",
       "    </tr>\n",
       "    <tr>\n",
       "      <th>5</th>\n",
       "      <td>Sat 01:15:47 AM01:15AM</td>\n",
       "      <td>67.816767.82</td>\n",
       "      <td>-50.5667-50.57</td>\n",
       "      <td>↗ 45°</td>\n",
       "      <td>490</td>\n",
       "      <td>564</td>\n",
       "      <td>3.300033e+09</td>\n",
       "      <td>12.0</td>\n",
       "      <td>Gander Center</td>\n",
       "    </tr>\n",
       "    <tr>\n",
       "      <th>...</th>\n",
       "      <td>...</td>\n",
       "      <td>...</td>\n",
       "      <td>...</td>\n",
       "      <td>...</td>\n",
       "      <td>...</td>\n",
       "      <td>...</td>\n",
       "      <td>...</td>\n",
       "      <td>...</td>\n",
       "      <td>...</td>\n",
       "    </tr>\n",
       "    <tr>\n",
       "      <th>582</th>\n",
       "      <td>Sat 10:19:30 AM10:19AM</td>\n",
       "      <td>31.466931.47</td>\n",
       "      <td>74.403674.40</td>\n",
       "      <td>↑ 1°</td>\n",
       "      <td>157</td>\n",
       "      <td>181</td>\n",
       "      <td>1.900190e+07</td>\n",
       "      <td>-773.0</td>\n",
       "      <td>FlightAware ADS-B (LHE / OPLA)</td>\n",
       "    </tr>\n",
       "    <tr>\n",
       "      <th>583</th>\n",
       "      <td>Sat 10:19:46 AM10:19AM</td>\n",
       "      <td>31.479131.48</td>\n",
       "      <td>74.403874.40</td>\n",
       "      <td>↑ 1°</td>\n",
       "      <td>157</td>\n",
       "      <td>181</td>\n",
       "      <td>1.675168e+07</td>\n",
       "      <td>-814.0</td>\n",
       "      <td>FlightAware ADS-B (LHE / OPLA)</td>\n",
       "    </tr>\n",
       "    <tr>\n",
       "      <th>584</th>\n",
       "      <td>Sat 10:20:05 AM10:20AM</td>\n",
       "      <td>31.493031.49</td>\n",
       "      <td>74.404074.40</td>\n",
       "      <td>↑ 1°</td>\n",
       "      <td>157</td>\n",
       "      <td>181</td>\n",
       "      <td>1.425142e+07</td>\n",
       "      <td>-814.0</td>\n",
       "      <td>FlightAware ADS-B (LHE / OPLA)</td>\n",
       "    </tr>\n",
       "    <tr>\n",
       "      <th>585</th>\n",
       "      <td>Sat 10:20:21 AM10:20AM</td>\n",
       "      <td>31.505331.51</td>\n",
       "      <td>74.404374.40</td>\n",
       "      <td>↑ 1°</td>\n",
       "      <td>156</td>\n",
       "      <td>180</td>\n",
       "      <td>1.200120e+07</td>\n",
       "      <td>-844.0</td>\n",
       "      <td>FlightAware ADS-B (LHE / OPLA)</td>\n",
       "    </tr>\n",
       "    <tr>\n",
       "      <th>587</th>\n",
       "      <td>Sat 10:21:09 AM10:21AM Arrival (LHE) @ Saturda...</td>\n",
       "      <td>Sat 10:21:09 AM10:21AM Arrival (LHE) @ Saturda...</td>\n",
       "      <td>Sat 10:21:09 AM10:21AM Arrival (LHE) @ Saturda...</td>\n",
       "      <td>Sat 10:21:09 AM10:21AM Arrival (LHE) @ Saturda...</td>\n",
       "      <td>Sat 10:21:09 AM10:21AM Arrival (LHE) @ Saturda...</td>\n",
       "      <td>Sat 10:21:09 AM10:21AM Arrival (LHE) @ Saturda...</td>\n",
       "      <td>NaN</td>\n",
       "      <td>NaN</td>\n",
       "      <td>FlightAware</td>\n",
       "    </tr>\n",
       "  </tbody>\n",
       "</table>\n",
       "<p>578 rows × 9 columns</p>\n",
       "</div>"
      ],
      "text/plain": [
       "                                         Time (EDT)EDT  \\\n",
       "1                               Sat 01:11:46 AM01:11AM   \n",
       "2                               Sat 01:12:46 AM01:12AM   \n",
       "3                               Sat 01:13:46 AM01:13AM   \n",
       "4                               Sat 01:14:46 AM01:14AM   \n",
       "5                               Sat 01:15:47 AM01:15AM   \n",
       "..                                                 ...   \n",
       "582                             Sat 10:19:30 AM10:19AM   \n",
       "583                             Sat 10:19:46 AM10:19AM   \n",
       "584                             Sat 10:20:05 AM10:20AM   \n",
       "585                             Sat 10:20:21 AM10:20AM   \n",
       "587  Sat 10:21:09 AM10:21AM Arrival (LHE) @ Saturda...   \n",
       "\n",
       "                                           LatitudeLat  \\\n",
       "1                                         67.433367.43   \n",
       "2                                         67.533367.53   \n",
       "3                                         67.633367.63   \n",
       "4                                         67.716767.72   \n",
       "5                                         67.816767.82   \n",
       "..                                                 ...   \n",
       "582                                       31.466931.47   \n",
       "583                                       31.479131.48   \n",
       "584                                       31.493031.49   \n",
       "585                                       31.505331.51   \n",
       "587  Sat 10:21:09 AM10:21AM Arrival (LHE) @ Saturda...   \n",
       "\n",
       "                                          LongitudeLon  \\\n",
       "1                                       -51.6333-51.63   \n",
       "2                                       -51.3833-51.38   \n",
       "3                                       -51.0833-51.08   \n",
       "4                                       -50.8333-50.83   \n",
       "5                                       -50.5667-50.57   \n",
       "..                                                 ...   \n",
       "582                                       74.403674.40   \n",
       "583                                       74.403874.40   \n",
       "584                                       74.404074.40   \n",
       "585                                       74.404374.40   \n",
       "587  Sat 10:21:09 AM10:21AM Arrival (LHE) @ Saturda...   \n",
       "\n",
       "                                             CourseDir  \\\n",
       "1                                                ↗ 49°   \n",
       "2                                                ↗ 44°   \n",
       "3                                                ↗ 49°   \n",
       "4                                                ↗ 49°   \n",
       "5                                                ↗ 45°   \n",
       "..                                                 ...   \n",
       "582                                               ↑ 1°   \n",
       "583                                               ↑ 1°   \n",
       "584                                               ↑ 1°   \n",
       "585                                               ↑ 1°   \n",
       "587  Sat 10:21:09 AM10:21AM Arrival (LHE) @ Saturda...   \n",
       "\n",
       "                                                   kts  \\\n",
       "1                                                  490   \n",
       "2                                                  490   \n",
       "3                                                  490   \n",
       "4                                                  490   \n",
       "5                                                  490   \n",
       "..                                                 ...   \n",
       "582                                                157   \n",
       "583                                                157   \n",
       "584                                                157   \n",
       "585                                                156   \n",
       "587  Sat 10:21:09 AM10:21AM Arrival (LHE) @ Saturda...   \n",
       "\n",
       "                                                   mph          feet   Rate  \\\n",
       "1                                                  564  3.300033e+09    NaN   \n",
       "2                                                  564  3.300033e+09    NaN   \n",
       "3                                                  564  3.300033e+09    NaN   \n",
       "4                                                  564  3.300033e+09    NaN   \n",
       "5                                                  564  3.300033e+09   12.0   \n",
       "..                                                 ...           ...    ...   \n",
       "582                                                181  1.900190e+07 -773.0   \n",
       "583                                                181  1.675168e+07 -814.0   \n",
       "584                                                181  1.425142e+07 -814.0   \n",
       "585                                                180  1.200120e+07 -844.0   \n",
       "587  Sat 10:21:09 AM10:21AM Arrival (LHE) @ Saturda...           NaN    NaN   \n",
       "\n",
       "                 Reporting Facility  \n",
       "1                     Gander Center  \n",
       "2                     Gander Center  \n",
       "3                     Gander Center  \n",
       "4                     Gander Center  \n",
       "5                     Gander Center  \n",
       "..                              ...  \n",
       "582  FlightAware ADS-B (LHE / OPLA)  \n",
       "583  FlightAware ADS-B (LHE / OPLA)  \n",
       "584  FlightAware ADS-B (LHE / OPLA)  \n",
       "585  FlightAware ADS-B (LHE / OPLA)  \n",
       "587                     FlightAware  \n",
       "\n",
       "[578 rows x 9 columns]"
      ]
     },
     "execution_count": 56,
     "metadata": {},
     "output_type": "execute_result"
    }
   ],
   "source": [
    "df"
   ]
  },
  {
   "cell_type": "code",
   "execution_count": 42,
   "id": "b6fff9aa-293b-423d-9bdd-c7da682d24e4",
   "metadata": {
    "tags": []
   },
   "outputs": [
    {
     "data": {
      "text/plain": [
       "0                                          Gander Center\n",
       "1                                           67.433367.43\n",
       "2                                           67.533367.53\n",
       "3                                           67.633367.63\n",
       "4                                           67.716767.72\n",
       "                             ...                        \n",
       "583                                         31.479131.48\n",
       "584                                         31.493031.49\n",
       "585                                         31.505331.51\n",
       "586                                          FlightAware\n",
       "587    Sat 10:21:09 AM10:21AM Arrival (LHE) @ Saturda...\n",
       "Name: LatitudeLat, Length: 588, dtype: object"
      ]
     },
     "execution_count": 42,
     "metadata": {},
     "output_type": "execute_result"
    }
   ],
   "source": [
    "df['LatitudeLat']"
   ]
  },
  {
   "cell_type": "code",
   "execution_count": null,
   "id": "c8fdaeec-a1b0-4eac-b0b5-ce6edfe26750",
   "metadata": {},
   "outputs": [],
   "source": []
  }
 ],
 "metadata": {
  "kernelspec": {
   "display_name": "Python 3 (ipykernel)",
   "language": "python",
   "name": "python3"
  },
  "language_info": {
   "codemirror_mode": {
    "name": "ipython",
    "version": 3
   },
   "file_extension": ".py",
   "mimetype": "text/x-python",
   "name": "python",
   "nbconvert_exporter": "python",
   "pygments_lexer": "ipython3",
   "version": "3.11.5"
  }
 },
 "nbformat": 4,
 "nbformat_minor": 5
}
